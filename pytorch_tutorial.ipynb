{
 "cells": [
  {
   "cell_type": "markdown",
   "metadata": {},
   "source": [
    "# PyTorch Tutorial: Building a Multi-Layer Perceptron (MLP) for Classification"
   ]
  },
  {
   "cell_type": "markdown",
   "metadata": {},
   "source": [
    "## 📘 Introduction\n",
    "\n",
    "PyTorch is an open-source machine learning library developed by Facebook AI Research. It provides a flexible and intuitive platform for deep learning research and production. In this tutorial, we will walk through the basics of PyTorch, its architecture, and how to build a simple MLP (Multi-Layer Perceptron) for classification."
   ]
  },
  {
   "cell_type": "markdown",
   "metadata": {},
   "source": [
    "## 🧠 Architecture of PyTorch\n",
    "\n",
    "PyTorch is composed of several key components:\n",
    "- **Tensor Library (torch.Tensor):** Similar to NumPy but with GPU support.\n",
    "- **Autograd:** Automatic differentiation for all operations on Tensors.\n",
    "- **nn Module:** High-level abstractions for building and training neural networks.\n",
    "- **Optim Module:** Optimization algorithms (SGD, Adam, etc.).\n",
    "- **torchvision:** Utilities for vision datasets, model architectures, and image transformations."
   ]
  },
  {
   "cell_type": "markdown",
   "metadata": {},
   "source": [
    "## 🔧 Installation"
   ]
  },
  {
   "cell_type": "code",
   "execution_count": null,
   "metadata": {},
   "outputs": [],
   "source": [
    "# pip installation\npip install torch torchvision torchaudio"
   ]
  },
  {
   "cell_type": "code",
   "execution_count": null,
   "metadata": {},
   "outputs": [],
   "source": [
    "# conda installation\nconda install pytorch torchvision torchaudio pytorch-cuda=11.8 -c pytorch -c nvidia"
   ]
  },
  {
   "cell_type": "markdown",
   "metadata": {},
   "source": [
    "[Installation Guide](https://pytorch.org/get-started/locally/)"
   ]
  },
  {
   "cell_type": "markdown",
   "metadata": {},
   "source": [
    "## 🏗️ Implementing a Simple MLP for Classification"
   ]
  },
  {
   "cell_type": "code",
   "execution_count": null,
   "metadata": {},
   "outputs": [],
   "source": [
    "import torch\nimport torch.nn as nn\nimport torch.nn.functional as F\nimport torch.optim as optim\nfrom torch.utils.data import DataLoader, TensorDataset\nimport numpy as np\nimport matplotlib.pyplot as plt"
   ]
  },
  {
   "cell_type": "code",
   "execution_count": null,
   "metadata": {},
   "outputs": [],
   "source": [
    "# Create synthetic data (e.g., 2 classes)\nX = torch.randn(1000, 20)\ny = torch.randint(0, 2, (1000,))\n\n# Wrap in DataLoader\ndataset = TensorDataset(X, y)\ndataloader = DataLoader(dataset, batch_size=32, shuffle=True)"
   ]
  },
  {
   "cell_type": "code",
   "execution_count": null,
   "metadata": {},
   "outputs": [],
   "source": [
    "class MLP(nn.Module):\n",
    "    def __init__(self, input_dim, hidden_dim, output_dim):\n",
    "        super(MLP, self).__init__()\n",
    "        self.fc1 = nn.Linear(input_dim, hidden_dim)\n",
    "        self.fc2 = nn.Linear(hidden_dim, output_dim)\n",
    "\n",
    "    def forward(self, x):\n",
    "        x = F.relu(self.fc1(x))\n",
    "        x = self.fc2(x)\n",
    "        return x\n",
    "\n",
    "\n",
    "model = MLP(20, 64, 2)"
   ]
  },
  {
   "cell_type": "code",
   "execution_count": null,
   "metadata": {},
   "outputs": [],
   "source": [
    "criterion = nn.CrossEntropyLoss()\noptimizer = optim.Adam(model.parameters(), lr=0.001)\n\nfor epoch in range(10):\n    total_loss = 0\n    for batch_X, batch_y in dataloader:\n        optimizer.zero_grad()\n        outputs = model(batch_X)\n        loss = criterion(outputs, batch_y)\n        loss.backward()\n        optimizer.step()\n        total_loss += loss.item()\n    print(f\"Epoch {epoch+1}, Loss: {total_loss:.4f}\")"
   ]
  },
  {
   "cell_type": "code",
   "execution_count": null,
   "metadata": {},
   "outputs": [],
   "source": [
    "model.eval()\nwith torch.no_grad():\n    predictions = model(X).argmax(dim=1)\n    accuracy = (predictions == y).float().mean()\n    print(f\"Accuracy: {accuracy:.4f}\")"
   ]
  },
  {
   "cell_type": "markdown",
   "metadata": {},
   "source": [
    "## ⚙️ Key Parameters to Tune\n- **Learning Rate:** Critical for training stability.\n- **Batch Size:** Affects speed and generalization.\n- **Hidden Layers and Neurons:** Defines capacity of the model.\n- **Activation Functions:** e.g., ReLU, LeakyReLU.\n- **Number of Epochs:** Enough to converge without overfitting."
   ]
  },
  {
   "cell_type": "markdown",
   "metadata": {},
   "source": [
    "## ✅ Good Practices\n- Use `model.eval()` and `with torch.no_grad()` during evaluation.\n- Shuffle your training data.\n- Normalize input data.\n- Use GPU (`model.to(device)`, `input.to(device)`).\n- Save models with `torch.save()` and load with `torch.load()`."
   ]
  },
  {
   "cell_type": "markdown",
   "metadata": {},
   "source": [
    "## 🗞️ PyTorch in Notebook vs Script\n\n| Feature | Notebook | Script |\n|--------|---------|--------|\n| Interactivity | High | Low |\n| Reproducibility | Lower | Higher |\n| Debugging | Easier | Harder (but more robust) |\n| Production | ❌ | ✅ |\n\n**Recommendation:** Use notebooks for prototyping and exploration, scripts for training and deployment."
   ]
  },
  {
   "cell_type": "markdown",
   "metadata": {},
   "source": [
    "## 🔗 Resources\n- [PyTorch Docs](https://pytorch.org/docs/stable/index.html)\n- [Deep Learning with PyTorch: A 60 Minute Blitz](https://pytorch.org/tutorials/beginner/deep_learning_60min_blitz.html)\n- [CS231n: Convolutional Neural Networks for Visual Recognition](https://cs231n.github.io/)\n- [FastAI Course](https://course.fast.ai/)\n- [PyTorch Forums](https://discuss.pytorch.org/)"
   ]
  },
  {
   "cell_type": "markdown",
   "metadata": {},
   "source": [
    "## 🧠 Final Thoughts\nPyTorch offers a lot of flexibility and control. MLPs are just the beginning — you can scale up to CNNs, RNNs, Transformers, and beyond. Once you understand how PyTorch models are structured and trained, the sky’s the limit.\n\nHappy coding! 🚀"
   ]
  }
 ],
 "metadata": {
  "kernelspec": {
   "display_name": "Python 3",
   "language": "python",
   "name": "python3"
  },
  "language_info": {
   "name": "python",
   "version": "3.10"
  }
 },
 "nbformat": 4,
 "nbformat_minor": 5
}
