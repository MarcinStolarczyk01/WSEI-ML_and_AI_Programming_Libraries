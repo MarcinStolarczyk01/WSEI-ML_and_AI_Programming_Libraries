{
 "cells": [
  {
   "cell_type": "markdown",
   "metadata": {},
   "source": [
    "## Model definition"
   ]
  },
  {
   "cell_type": "code",
   "execution_count": null,
   "metadata": {},
   "outputs": [
    {
     "ename": "",
     "evalue": "",
     "output_type": "error",
     "traceback": [
      "\u001b[1;31mRunning cells with 'Python 3.12.9' requires the ipykernel package.\n",
      "\u001b[1;31mRun the following command to install 'ipykernel' into the Python environment. \n",
      "\u001b[1;31mCommand: '//wsl.localhost/Ubuntu/home/marcin/PycharmProjects/WSEI-ML_and_AI_Programming_Libraries/.venv/Scripts/python.exe -m pip install ipykernel -U --user --force-reinstall'"
     ]
    }
   ],
   "source": [
    "#!pip install -q numpy torch --index-url https://download.pytorch.org/whl/cpu\n",
    "!pip install -q scikit-learn pandas pip install torch-directml"
   ]
  },
  {
   "cell_type": "code",
   "execution_count": null,
   "metadata": {},
   "outputs": [],
   "source": [
    "import torch\n",
    "\n",
    "device = torch.device(\"dml\" if torch.has_dml else \"cpu\")"
   ]
  },
  {
   "cell_type": "markdown",
   "metadata": {},
   "source": [
    "### Define a model"
   ]
  },
  {
   "cell_type": "code",
   "execution_count": 152,
   "metadata": {},
   "outputs": [],
   "source": [
    "import torch.nn as nn\n",
    "\n",
    "class GenderClassifier(nn.Module):\n",
    "\n",
    "    def __init__(self, input_size: int, hidden1_size: int, hidden2_size: int, output_size: int):\n",
    "        super(GenderClassifier, self).__init__()\n",
    "        self.fc1 = nn.Linear(input_size, hidden1_size)\n",
    "        self.fc2 = nn.Linear(hidden1_size, hidden2_size)\n",
    "        self.fc3 = nn.Linear(hidden2_size, output_size)\n",
    "\n",
    "        self.relu = nn.ReLU()\n",
    "        self.softmax = nn.Softmax(1)\n",
    "\n",
    "    def forward(self, x):\n",
    "        x = self.relu(self.fc1(x))\n",
    "        x = self.relu(self.fc2(x))\n",
    "        x = self.softmax(self.fc3(x))\n",
    "\n",
    "        return x\n"
   ]
  },
  {
   "cell_type": "markdown",
   "metadata": {},
   "source": [
    "### Load and prepare dataset"
   ]
  },
  {
   "cell_type": "code",
   "execution_count": 153,
   "metadata": {},
   "outputs": [],
   "source": [
    "from torch.utils.data import DataLoader, TensorDataset, random_split\n",
    "import torch\n",
    "import pandas as pd\n",
    "\n",
    "df = pd.read_csv(\"data/hr_data_gold.csv\")\n",
    "\n",
    "label = 'Gender_Male'\n",
    "features = [c for c in df.columns if c != label]\n",
    "\n",
    "# create tensors\n",
    "X = torch.tensor(df[features].values, dtype=torch.float32).to_device(device)\n",
    "y = torch.tensor(df[label], dtype=torch.long).to_device(device)\n",
    "\n",
    "# create tensor dataframe\n",
    "ds = TensorDataset(X, y)\n",
    "\n",
    "# split data\n",
    "train_size = int(0.8 * len(ds))\n",
    "test_size = len(ds) - train_size\n",
    "ds_train, ds_test = random_split(ds, [train_size, test_size])\n",
    "\n",
    "# create loaders\n",
    "all_loader  = DataLoader(ds, batch_size=1, shuffle=False)\n",
    "train_loader = DataLoader(ds_train, batch_size=8, shuffle=True)\n",
    "test_loader = DataLoader(ds_test, batch_size=1, shuffle=True)"
   ]
  },
  {
   "cell_type": "markdown",
   "metadata": {},
   "source": [
    "### Learn model 48 x 24"
   ]
  },
  {
   "cell_type": "code",
   "execution_count": null,
   "metadata": {},
   "outputs": [],
   "source": [
    "import torch.optim as optim\n",
    "from sklearn.metrics import accuracy_score\n",
    "\n",
    "model = GenderClassifier(len(features), 48, 24, 2)\n",
    "model = model.to_device(device)\n",
    "\n",
    "train_accuracy_log = []\n",
    "test_accuracy_log = []\n",
    "\n",
    "optimizer = optim.Adam(model.parameters(), lr=0.001)\n",
    "criterion = nn.CrossEntropyLoss()\n",
    "epochs = 1000\n",
    "\n",
    "for epoch in range(epochs):\n",
    "    # train\n",
    "    model.train()\n",
    "    for X_batch, y_batch in train_loader:\n",
    "        optimizer.zero_grad()\n",
    "        output = model(X_batch)\n",
    "        loss = criterion(output, y_batch)\n",
    "        loss.backward()\n",
    "        optimizer.step()\n",
    "\n",
    "    # calculate train_ds and test_ds accuracy\n",
    "    with torch.no_grad():\n",
    "        model.eval()\n",
    "        train_features, train_labels = ds_train[:][0], ds_train[:][1]\n",
    "        # Process all features at once\n",
    "        train_pred = model(train_features).argmax(dim=1)\n",
    "        train_accuracy = accuracy_score(train_labels, train_pred)\n",
    "        train_accuracy_log.append(train_accuracy)\n",
    "\n",
    "        test_features, test_labels = ds_test[:][0], ds_test[:][1]\n",
    "        # Process all features at once\n",
    "        test_pred = model(test_features).argmax(dim=1)\n",
    "        test_accuracy = accuracy_score(test_labels, test_pred)\n",
    "        test_accuracy_log.append(test_accuracy)\n",
    "\n",
    "    \n",
    "    print(f\"Progress: {epoch / epochs * 100:.1f} %\")\n"
   ]
  },
  {
   "cell_type": "markdown",
   "metadata": {},
   "source": [
    "### Learning curve"
   ]
  },
  {
   "cell_type": "code",
   "execution_count": 141,
   "metadata": {},
   "outputs": [],
   "source": [
    "!pip install -q matplotlib seaborn"
   ]
  },
  {
   "cell_type": "code",
   "execution_count": null,
   "metadata": {},
   "outputs": [],
   "source": [
    "from sklearn.metrics import accuracy_score, recall_score, precision_score, f1_score, confusion_matrix\n",
    "import matplotlib.pyplot as plt\n",
    "import seaborn as sns\n",
    "x = list(range(1, epochs + 1))\n",
    "\n",
    "plt.plot(x, train_accuracy_log, label=\"Train accuracy\")\n",
    "plt.plot(x, test_accuracy_log, label=\"Test accuracy\")\n",
    "plt.xlabel(\"Epoch\")\n",
    "plt.ylabel(\"Loss\")\n",
    "plt.title(\"Learning Curve\")\n",
    "plt.grid(axis = 'y')\n",
    "plt.show()"
   ]
  },
  {
   "cell_type": "markdown",
   "metadata": {},
   "source": [
    "### Validation\n",
    "- Accuracy\n",
    "- Precusion\n",
    "- Recall\n",
    "- Confusion Matrix"
   ]
  },
  {
   "cell_type": "code",
   "execution_count": null,
   "metadata": {},
   "outputs": [],
   "source": [
    "model.eval()\n",
    "all_preds = []\n",
    "all_labels = []\n",
    "\n",
    "with torch.no_grad():\n",
    "    for X, y in all_loader:\n",
    "        outputs = model(X)\n",
    "        preds = torch.argmax(outputs, dim=1)\n",
    "        all_labels.append(y)\n",
    "        all_preds.append(preds)\n",
    "\n",
    "accuracy = accuracy_score(all_labels, all_preds)\n",
    "precision = precision_score(all_labels, all_preds)\n",
    "recall = recall_score(all_labels, all_preds)\n",
    "f1 = f1_score(all_labels, all_preds)\n",
    "conf_matrix = confusion_matrix(all_labels, all_preds)\n",
    "\n",
    "sns.heatmap(conf_matrix, annot=True, fmt='d', cmap='Blues', \n",
    "            xticklabels=[\"Female\", \"Male\"], yticklabels=[\"Female\", \"Male\"])\n",
    "plt.xlabel('Predicted')\n",
    "plt.ylabel('Actual')\n",
    "plt.title('Confusion Matrix')\n",
    "\n",
    "plt.show()\n",
    "print(f\"Accuracy:  {accuracy:.4f}\")\n",
    "print(f\"Precision: {precision:.4f}\")\n",
    "print(f\"Recall:    {recall:.4f}\")\n",
    "print(f\"F1 Score:  {f1:.4f}\")"
   ]
  },
  {
   "cell_type": "code",
   "execution_count": 129,
   "metadata": {},
   "outputs": [],
   "source": [
    "torch.save(model, \"model_24_48_b8_e1000.pt\")"
   ]
  },
  {
   "cell_type": "code",
   "execution_count": 124,
   "metadata": {},
   "outputs": [],
   "source": [
    "model1 = torch.load(\"model.pt\", weights_only=False)"
   ]
  }
 ],
 "metadata": {
  "kernelspec": {
   "display_name": ".venv",
   "language": "python",
   "name": "python3"
  },
  "language_info": {
   "codemirror_mode": {
    "name": "ipython",
    "version": 3
   },
   "file_extension": ".py",
   "mimetype": "text/x-python",
   "name": "python",
   "nbconvert_exporter": "python",
   "pygments_lexer": "ipython3",
   "version": "3.12.9"
  }
 },
 "nbformat": 4,
 "nbformat_minor": 2
}
