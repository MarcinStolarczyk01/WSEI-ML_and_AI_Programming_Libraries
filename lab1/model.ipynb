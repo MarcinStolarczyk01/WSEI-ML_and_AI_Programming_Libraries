{
  "cells": [
    {
      "cell_type": "markdown",
      "source": [
        "# Lab 1"
      ],
      "metadata": {
        "id": "qyNGgQ1Bd4LR"
      }
    },
    {
      "cell_type": "markdown",
      "metadata": {
        "id": "O35296RdP4V7"
      },
      "source": [
        "## Model definition"
      ]
    },
    {
      "cell_type": "code",
      "execution_count": null,
      "metadata": {
        "colab": {
          "base_uri": "https://localhost:8080/"
        },
        "id": "eKJRfWIFP4WB",
        "outputId": "90315aaf-71bb-456a-ec97-79504126c7ce"
      },
      "outputs": [
        {
          "output_type": "stream",
          "name": "stdout",
          "text": [
            "\u001b[2K   \u001b[90m━━━━━━━━━━━━━━━━━━━━━━━━━━━━━━━━━━━━━━━━\u001b[0m \u001b[32m363.4/363.4 MB\u001b[0m \u001b[31m4.2 MB/s\u001b[0m eta \u001b[36m0:00:00\u001b[0m\n",
            "\u001b[2K   \u001b[90m━━━━━━━━━━━━━━━━━━━━━━━━━━━━━━━━━━━━━━━━\u001b[0m \u001b[32m13.8/13.8 MB\u001b[0m \u001b[31m69.7 MB/s\u001b[0m eta \u001b[36m0:00:00\u001b[0m\n",
            "\u001b[2K   \u001b[90m━━━━━━━━━━━━━━━━━━━━━━━━━━━━━━━━━━━━━━━━\u001b[0m \u001b[32m24.6/24.6 MB\u001b[0m \u001b[31m50.7 MB/s\u001b[0m eta \u001b[36m0:00:00\u001b[0m\n",
            "\u001b[2K   \u001b[90m━━━━━━━━━━━━━━━━━━━━━━━━━━━━━━━━━━━━━━━━\u001b[0m \u001b[32m883.7/883.7 kB\u001b[0m \u001b[31m44.7 MB/s\u001b[0m eta \u001b[36m0:00:00\u001b[0m\n",
            "\u001b[2K   \u001b[90m━━━━━━━━━━━━━━━━━━━━━━━━━━━━━━━━━━━━━━━━\u001b[0m \u001b[32m664.8/664.8 MB\u001b[0m \u001b[31m2.8 MB/s\u001b[0m eta \u001b[36m0:00:00\u001b[0m\n",
            "\u001b[2K   \u001b[90m━━━━━━━━━━━━━━━━━━━━━━━━━━━━━━━━━━━━━━━━\u001b[0m \u001b[32m211.5/211.5 MB\u001b[0m \u001b[31m4.5 MB/s\u001b[0m eta \u001b[36m0:00:00\u001b[0m\n",
            "\u001b[2K   \u001b[90m━━━━━━━━━━━━━━━━━━━━━━━━━━━━━━━━━━━━━━━━\u001b[0m \u001b[32m56.3/56.3 MB\u001b[0m \u001b[31m11.3 MB/s\u001b[0m eta \u001b[36m0:00:00\u001b[0m\n",
            "\u001b[2K   \u001b[90m━━━━━━━━━━━━━━━━━━━━━━━━━━━━━━━━━━━━━━━━\u001b[0m \u001b[32m127.9/127.9 MB\u001b[0m \u001b[31m7.5 MB/s\u001b[0m eta \u001b[36m0:00:00\u001b[0m\n",
            "\u001b[2K   \u001b[90m━━━━━━━━━━━━━━━━━━━━━━━━━━━━━━━━━━━━━━━━\u001b[0m \u001b[32m207.5/207.5 MB\u001b[0m \u001b[31m7.2 MB/s\u001b[0m eta \u001b[36m0:00:00\u001b[0m\n",
            "\u001b[2K   \u001b[90m━━━━━━━━━━━━━━━━━━━━━━━━━━━━━━━━━━━━━━━━\u001b[0m \u001b[32m21.1/21.1 MB\u001b[0m \u001b[31m72.6 MB/s\u001b[0m eta \u001b[36m0:00:00\u001b[0m\n",
            "\u001b[?25h"
          ]
        }
      ],
      "source": [
        "!pip install -q numpy torch\n",
        "#!pip install scikit-learn pandas torch"
      ]
    },
    {
      "cell_type": "markdown",
      "source": [
        "### Use gpu if possible"
      ],
      "metadata": {
        "id": "d-1dKGTXCWVC"
      }
    },
    {
      "cell_type": "code",
      "source": [
        "import torch\n",
        "device = \"cuda\" if torch.cuda.is_available() else \"cpu\"\n",
        "print(f\"Using {device} device\")"
      ],
      "metadata": {
        "colab": {
          "base_uri": "https://localhost:8080/"
        },
        "id": "v8L9TbjiCdcQ",
        "outputId": "a4dadf82-80a1-4de0-aa1f-a2e76ea3e338"
      },
      "execution_count": null,
      "outputs": [
        {
          "output_type": "stream",
          "name": "stdout",
          "text": [
            "Using cuda device\n"
          ]
        }
      ]
    },
    {
      "cell_type": "markdown",
      "metadata": {
        "id": "IjPubh3bP4WF"
      },
      "source": [
        "### Define a model"
      ]
    },
    {
      "cell_type": "code",
      "execution_count": null,
      "metadata": {
        "id": "yD28mXL1P4WH"
      },
      "outputs": [],
      "source": [
        "import torch.nn as nn\n",
        "\n",
        "class GenderClassifier(nn.Module):\n",
        "\n",
        "    def __init__(self, input_size: int, hidden1_size: int, hidden2_size: int, output_size: int):\n",
        "        super(GenderClassifier, self).__init__()\n",
        "        self.fc1 = nn.Linear(input_size, hidden1_size)\n",
        "        self.fc2 = nn.Linear(hidden1_size, hidden2_size)\n",
        "        self.fc3 = nn.Linear(hidden2_size, output_size)\n",
        "\n",
        "        self.relu = nn.ReLU()\n",
        "        self.softmax = nn.Softmax(1)\n",
        "\n",
        "    def forward(self, x):\n",
        "        x = self.relu(self.fc1(x))\n",
        "        x = self.relu(self.fc2(x))\n",
        "        x = self.softmax(self.fc3(x))\n",
        "\n",
        "        return x\n"
      ]
    },
    {
      "cell_type": "markdown",
      "metadata": {
        "id": "qEO5a3wVP4WK"
      },
      "source": [
        "### Load and prepare dataset"
      ]
    },
    {
      "cell_type": "code",
      "execution_count": null,
      "metadata": {
        "id": "riasW814P4WM"
      },
      "outputs": [],
      "source": [
        "from torch.utils.data import DataLoader, TensorDataset, random_split\n",
        "import torch\n",
        "import pandas as pd\n",
        "\n",
        "df = pd.read_csv(\"hr_data_gold.csv\")\n",
        "\n",
        "label = 'Gender_Male'\n",
        "features = [c for c in df.columns if c != label]\n",
        "\n",
        "# create tensors\n",
        "X = torch.tensor(df[features].values, dtype=torch.float32).to(device)\n",
        "y = torch.tensor(df[label].values, dtype=torch.long).to(device)\n",
        "\n",
        "# create tensor dataframe\n",
        "ds = TensorDataset(X, y)\n",
        "\n",
        "# split data\n",
        "train_size = int(0.8 * len(ds))\n",
        "test_size = len(ds) - train_size\n",
        "ds_train, ds_test = random_split(ds, [train_size, test_size])\n",
        "\n",
        "# create loaders\n",
        "all_loader  = DataLoader(ds, batch_size=1, shuffle=False)\n",
        "train_loader = DataLoader(ds_train, batch_size=32, shuffle=True)\n",
        "test_loader = DataLoader(ds_test, batch_size=1, shuffle=True)"
      ]
    },
    {
      "cell_type": "markdown",
      "metadata": {
        "id": "m1jnIyZ4P4WP"
      },
      "source": [
        "### Learn model 96 x 48"
      ]
    },
    {
      "cell_type": "code",
      "execution_count": null,
      "metadata": {
        "colab": {
          "base_uri": "https://localhost:8080/"
        },
        "id": "qbhtaaCMP4WR",
        "outputId": "41b5e827-3374-4e57-cc48-7da1a68527d1"
      },
      "outputs": [
        {
          "output_type": "stream",
          "name": "stdout",
          "text": [
            "CPU times: user 2 µs, sys: 1e+03 ns, total: 3 µs\n",
            "Wall time: 4.53 µs\n",
            "Progress: 0.0 %\n",
            "Progress: 0.3 %\n",
            "Progress: 0.7 %\n",
            "Progress: 1.0 %\n",
            "Progress: 1.3 %\n",
            "Progress: 1.7 %\n",
            "Progress: 2.0 %\n",
            "Progress: 2.3 %\n",
            "Progress: 2.7 %\n",
            "Progress: 3.0 %\n",
            "Progress: 3.3 %\n",
            "Progress: 3.7 %\n",
            "Progress: 4.0 %\n",
            "Progress: 4.3 %\n",
            "Progress: 4.7 %\n",
            "Progress: 5.0 %\n",
            "Progress: 5.3 %\n",
            "Progress: 5.7 %\n",
            "Progress: 6.0 %\n",
            "Progress: 6.3 %\n",
            "Progress: 6.7 %\n",
            "Progress: 7.0 %\n",
            "Progress: 7.3 %\n",
            "Progress: 7.7 %\n",
            "Progress: 8.0 %\n",
            "Progress: 8.3 %\n",
            "Progress: 8.7 %\n",
            "Progress: 9.0 %\n",
            "Progress: 9.3 %\n",
            "Progress: 9.7 %\n",
            "Progress: 10.0 %\n",
            "Progress: 10.3 %\n",
            "Progress: 10.7 %\n",
            "Progress: 11.0 %\n",
            "Progress: 11.3 %\n",
            "Progress: 11.7 %\n",
            "Progress: 12.0 %\n",
            "Progress: 12.3 %\n",
            "Progress: 12.7 %\n",
            "Progress: 13.0 %\n",
            "Progress: 13.3 %\n",
            "Progress: 13.7 %\n",
            "Progress: 14.0 %\n",
            "Progress: 14.3 %\n",
            "Progress: 14.7 %\n",
            "Progress: 15.0 %\n",
            "Progress: 15.3 %\n",
            "Progress: 15.7 %\n",
            "Progress: 16.0 %\n",
            "Progress: 16.3 %\n",
            "Progress: 16.7 %\n",
            "Progress: 17.0 %\n",
            "Progress: 17.3 %\n",
            "Progress: 17.7 %\n",
            "Progress: 18.0 %\n",
            "Progress: 18.3 %\n",
            "Progress: 18.7 %\n",
            "Progress: 19.0 %\n",
            "Progress: 19.3 %\n",
            "Progress: 19.7 %\n",
            "Progress: 20.0 %\n",
            "Progress: 20.3 %\n",
            "Progress: 20.7 %\n",
            "Progress: 21.0 %\n",
            "Progress: 21.3 %\n",
            "Progress: 21.7 %\n",
            "Progress: 22.0 %\n",
            "Progress: 22.3 %\n",
            "Progress: 22.7 %\n",
            "Progress: 23.0 %\n",
            "Progress: 23.3 %\n",
            "Progress: 23.7 %\n",
            "Progress: 24.0 %\n",
            "Progress: 24.3 %\n",
            "Progress: 24.7 %\n",
            "Progress: 25.0 %\n",
            "Progress: 25.3 %\n",
            "Progress: 25.7 %\n",
            "Progress: 26.0 %\n",
            "Progress: 26.3 %\n",
            "Progress: 26.7 %\n",
            "Progress: 27.0 %\n",
            "Progress: 27.3 %\n",
            "Progress: 27.7 %\n",
            "Progress: 28.0 %\n",
            "Progress: 28.3 %\n",
            "Progress: 28.7 %\n",
            "Progress: 29.0 %\n",
            "Progress: 29.3 %\n",
            "Progress: 29.7 %\n",
            "Progress: 30.0 %\n",
            "Progress: 30.3 %\n",
            "Progress: 30.7 %\n",
            "Progress: 31.0 %\n",
            "Progress: 31.3 %\n",
            "Progress: 31.7 %\n",
            "Progress: 32.0 %\n",
            "Progress: 32.3 %\n",
            "Progress: 32.7 %\n",
            "Progress: 33.0 %\n",
            "Progress: 33.3 %\n",
            "Progress: 33.7 %\n",
            "Progress: 34.0 %\n",
            "Progress: 34.3 %\n",
            "Progress: 34.7 %\n",
            "Progress: 35.0 %\n",
            "Progress: 35.3 %\n",
            "Progress: 35.7 %\n",
            "Progress: 36.0 %\n",
            "Progress: 36.3 %\n",
            "Progress: 36.7 %\n",
            "Progress: 37.0 %\n",
            "Progress: 37.3 %\n",
            "Progress: 37.7 %\n",
            "Progress: 38.0 %\n",
            "Progress: 38.3 %\n",
            "Progress: 38.7 %\n",
            "Progress: 39.0 %\n",
            "Progress: 39.3 %\n",
            "Progress: 39.7 %\n",
            "Progress: 40.0 %\n",
            "Progress: 40.3 %\n",
            "Progress: 40.7 %\n",
            "Progress: 41.0 %\n",
            "Progress: 41.3 %\n",
            "Progress: 41.7 %\n",
            "Progress: 42.0 %\n",
            "Progress: 42.3 %\n",
            "Progress: 42.7 %\n",
            "Progress: 43.0 %\n",
            "Progress: 43.3 %\n",
            "Progress: 43.7 %\n",
            "Progress: 44.0 %\n",
            "Progress: 44.3 %\n",
            "Progress: 44.7 %\n",
            "Progress: 45.0 %\n",
            "Progress: 45.3 %\n",
            "Progress: 45.7 %\n",
            "Progress: 46.0 %\n",
            "Progress: 46.3 %\n",
            "Progress: 46.7 %\n",
            "Progress: 47.0 %\n",
            "Progress: 47.3 %\n",
            "Progress: 47.7 %\n",
            "Progress: 48.0 %\n",
            "Progress: 48.3 %\n",
            "Progress: 48.7 %\n",
            "Progress: 49.0 %\n",
            "Progress: 49.3 %\n",
            "Progress: 49.7 %\n",
            "Progress: 50.0 %\n",
            "Progress: 50.3 %\n",
            "Progress: 50.7 %\n",
            "Progress: 51.0 %\n",
            "Progress: 51.3 %\n",
            "Progress: 51.7 %\n",
            "Progress: 52.0 %\n",
            "Progress: 52.3 %\n",
            "Progress: 52.7 %\n",
            "Progress: 53.0 %\n",
            "Progress: 53.3 %\n",
            "Progress: 53.7 %\n",
            "Progress: 54.0 %\n",
            "Progress: 54.3 %\n",
            "Progress: 54.7 %\n",
            "Progress: 55.0 %\n",
            "Progress: 55.3 %\n",
            "Progress: 55.7 %\n",
            "Progress: 56.0 %\n",
            "Progress: 56.3 %\n",
            "Progress: 56.7 %\n",
            "Progress: 57.0 %\n",
            "Progress: 57.3 %\n",
            "Progress: 57.7 %\n",
            "Progress: 58.0 %\n",
            "Progress: 58.3 %\n",
            "Progress: 58.7 %\n",
            "Progress: 59.0 %\n",
            "Progress: 59.3 %\n",
            "Progress: 59.7 %\n",
            "Progress: 60.0 %\n",
            "Progress: 60.3 %\n",
            "Progress: 60.7 %\n",
            "Progress: 61.0 %\n",
            "Progress: 61.3 %\n",
            "Progress: 61.7 %\n",
            "Progress: 62.0 %\n",
            "Progress: 62.3 %\n",
            "Progress: 62.7 %\n",
            "Progress: 63.0 %\n",
            "Progress: 63.3 %\n",
            "Progress: 63.7 %\n",
            "Progress: 64.0 %\n",
            "Progress: 64.3 %\n",
            "Progress: 64.7 %\n",
            "Progress: 65.0 %\n",
            "Progress: 65.3 %\n",
            "Progress: 65.7 %\n",
            "Progress: 66.0 %\n",
            "Progress: 66.3 %\n",
            "Progress: 66.7 %\n",
            "Progress: 67.0 %\n",
            "Progress: 67.3 %\n",
            "Progress: 67.7 %\n",
            "Progress: 68.0 %\n",
            "Progress: 68.3 %\n",
            "Progress: 68.7 %\n",
            "Progress: 69.0 %\n",
            "Progress: 69.3 %\n",
            "Progress: 69.7 %\n",
            "Progress: 70.0 %\n",
            "Progress: 70.3 %\n",
            "Progress: 70.7 %\n",
            "Progress: 71.0 %\n",
            "Progress: 71.3 %\n",
            "Progress: 71.7 %\n",
            "Progress: 72.0 %\n",
            "Progress: 72.3 %\n",
            "Progress: 72.7 %\n",
            "Progress: 73.0 %\n",
            "Progress: 73.3 %\n",
            "Progress: 73.7 %\n",
            "Progress: 74.0 %\n",
            "Progress: 74.3 %\n",
            "Progress: 74.7 %\n",
            "Progress: 75.0 %\n",
            "Progress: 75.3 %\n",
            "Progress: 75.7 %\n",
            "Progress: 76.0 %\n",
            "Progress: 76.3 %\n",
            "Progress: 76.7 %\n",
            "Progress: 77.0 %\n",
            "Progress: 77.3 %\n",
            "Progress: 77.7 %\n",
            "Progress: 78.0 %\n",
            "Progress: 78.3 %\n",
            "Progress: 78.7 %\n",
            "Progress: 79.0 %\n",
            "Progress: 79.3 %\n",
            "Progress: 79.7 %\n",
            "Progress: 80.0 %\n",
            "Progress: 80.3 %\n",
            "Progress: 80.7 %\n",
            "Progress: 81.0 %\n",
            "Progress: 81.3 %\n",
            "Progress: 81.7 %\n",
            "Progress: 82.0 %\n",
            "Progress: 82.3 %\n",
            "Progress: 82.7 %\n",
            "Progress: 83.0 %\n",
            "Progress: 83.3 %\n",
            "Progress: 83.7 %\n",
            "Progress: 84.0 %\n",
            "Progress: 84.3 %\n",
            "Progress: 84.7 %\n",
            "Progress: 85.0 %\n",
            "Progress: 85.3 %\n",
            "Progress: 85.7 %\n",
            "Progress: 86.0 %\n",
            "Progress: 86.3 %\n",
            "Progress: 86.7 %\n",
            "Progress: 87.0 %\n",
            "Progress: 87.3 %\n",
            "Progress: 87.7 %\n",
            "Progress: 88.0 %\n",
            "Progress: 88.3 %\n",
            "Progress: 88.7 %\n",
            "Progress: 89.0 %\n",
            "Progress: 89.3 %\n",
            "Progress: 89.7 %\n",
            "Progress: 90.0 %\n",
            "Progress: 90.3 %\n",
            "Progress: 90.7 %\n",
            "Progress: 91.0 %\n",
            "Progress: 91.3 %\n",
            "Progress: 91.7 %\n",
            "Progress: 92.0 %\n",
            "Progress: 92.3 %\n",
            "Progress: 92.7 %\n",
            "Progress: 93.0 %\n",
            "Progress: 93.3 %\n",
            "Progress: 93.7 %\n",
            "Progress: 94.0 %\n",
            "Progress: 94.3 %\n",
            "Progress: 94.7 %\n",
            "Progress: 95.0 %\n",
            "Progress: 95.3 %\n",
            "Progress: 95.7 %\n",
            "Progress: 96.0 %\n",
            "Progress: 96.3 %\n",
            "Progress: 96.7 %\n",
            "Progress: 97.0 %\n",
            "Progress: 97.3 %\n",
            "Progress: 97.7 %\n",
            "Progress: 98.0 %\n",
            "Progress: 98.3 %\n",
            "Progress: 98.7 %\n",
            "Progress: 99.0 %\n",
            "Progress: 99.3 %\n",
            "Progress: 99.7 %\n"
          ]
        }
      ],
      "source": [
        "import torch.optim as optim\n",
        "from sklearn.metrics import accuracy_score\n",
        "\n",
        "%time\n",
        "model = GenderClassifier(len(features), 96, 48, 2).to(device)\n",
        "\n",
        "train_accuracy_log = []\n",
        "test_accuracy_log = []\n",
        "\n",
        "optimizer = optim.Adam(model.parameters(), lr=0.001)\n",
        "criterion = nn.CrossEntropyLoss()\n",
        "epochs = 300\n",
        "\n",
        "for epoch in range(epochs):\n",
        "    # train\n",
        "    model.train()\n",
        "    for X_batch, y_batch in train_loader:\n",
        "        optimizer.zero_grad()\n",
        "        output = model(X_batch)\n",
        "        loss = criterion(output, y_batch)\n",
        "        loss.backward()\n",
        "        optimizer.step()\n",
        "\n",
        "    # calculate train_ds and test_ds accuracy\n",
        "    with torch.no_grad():\n",
        "        model.eval()\n",
        "        train_features, train_labels = ds_train[:][0], ds_train[:][1]\n",
        "        # Process all features at once\n",
        "        train_pred = model(train_features).argmax(dim=1)\n",
        "        train_accuracy = accuracy_score(train_labels.cpu(), train_pred.cpu())\n",
        "        train_accuracy_log.append(train_accuracy)\n",
        "\n",
        "        test_features, test_labels = ds_test[:][0], ds_test[:][1]\n",
        "        # Process all features at once\n",
        "        test_pred = model(test_features).argmax(dim=1)\n",
        "        test_accuracy = accuracy_score(test_labels.cpu(), test_pred.cpu())\n",
        "        test_accuracy_log.append(test_accuracy)\n",
        "\n",
        "\n",
        "    print(f\"Progress: {epoch / epochs * 100:.1f} %\")"
      ]
    },
    {
      "cell_type": "code",
      "source": [
        "torch.save(model, \"/content/model_96_48_b32_e300.pt\")"
      ],
      "metadata": {
        "id": "gBvRzMxQez1G"
      },
      "execution_count": null,
      "outputs": []
    },
    {
      "cell_type": "code",
      "source": [
        "model = torch.load(\"/content/model_96_48_b32_e300.pt\", weights_only=False)"
      ],
      "metadata": {
        "id": "1Af4ms7FqlHh"
      },
      "execution_count": null,
      "outputs": []
    },
    {
      "cell_type": "markdown",
      "source": [
        "# Lab 2"
      ],
      "metadata": {
        "id": "cceyhnGGTUJp"
      }
    },
    {
      "cell_type": "code",
      "execution_count": null,
      "metadata": {
        "colab": {
          "base_uri": "https://localhost:8080/",
          "height": 211
        },
        "id": "Vyh7wqr4P4Wb",
        "outputId": "d1953cde-0e6f-4f77-a907-3c62a4bbe352"
      },
      "outputs": [
        {
          "output_type": "error",
          "ename": "NameError",
          "evalue": "name 'epochs' is not defined",
          "traceback": [
            "\u001b[0;31m---------------------------------------------------------------------------\u001b[0m",
            "\u001b[0;31mNameError\u001b[0m                                 Traceback (most recent call last)",
            "\u001b[0;32m<ipython-input-8-e0165d02533b>\u001b[0m in \u001b[0;36m<cell line: 0>\u001b[0;34m()\u001b[0m\n\u001b[1;32m      2\u001b[0m \u001b[0;32mimport\u001b[0m \u001b[0mmatplotlib\u001b[0m\u001b[0;34m.\u001b[0m\u001b[0mpyplot\u001b[0m \u001b[0;32mas\u001b[0m \u001b[0mplt\u001b[0m\u001b[0;34m\u001b[0m\u001b[0;34m\u001b[0m\u001b[0m\n\u001b[1;32m      3\u001b[0m \u001b[0;32mimport\u001b[0m \u001b[0mseaborn\u001b[0m \u001b[0;32mas\u001b[0m \u001b[0msns\u001b[0m\u001b[0;34m\u001b[0m\u001b[0;34m\u001b[0m\u001b[0m\n\u001b[0;32m----> 4\u001b[0;31m \u001b[0mx\u001b[0m \u001b[0;34m=\u001b[0m \u001b[0mlist\u001b[0m\u001b[0;34m(\u001b[0m\u001b[0mrange\u001b[0m\u001b[0;34m(\u001b[0m\u001b[0;36m1\u001b[0m\u001b[0;34m,\u001b[0m \u001b[0mepochs\u001b[0m \u001b[0;34m+\u001b[0m \u001b[0;36m1\u001b[0m\u001b[0;34m)\u001b[0m\u001b[0;34m)\u001b[0m\u001b[0;34m\u001b[0m\u001b[0;34m\u001b[0m\u001b[0m\n\u001b[0m\u001b[1;32m      5\u001b[0m \u001b[0;34m\u001b[0m\u001b[0m\n\u001b[1;32m      6\u001b[0m \u001b[0mplt\u001b[0m\u001b[0;34m.\u001b[0m\u001b[0mplot\u001b[0m\u001b[0;34m(\u001b[0m\u001b[0mx\u001b[0m\u001b[0;34m,\u001b[0m \u001b[0mtrain_accuracy_log\u001b[0m\u001b[0;34m,\u001b[0m \u001b[0mlabel\u001b[0m\u001b[0;34m=\u001b[0m\u001b[0;34m\"Train accuracy\"\u001b[0m\u001b[0;34m)\u001b[0m\u001b[0;34m\u001b[0m\u001b[0;34m\u001b[0m\u001b[0m\n",
            "\u001b[0;31mNameError\u001b[0m: name 'epochs' is not defined"
          ]
        }
      ],
      "source": [
        "from sklearn.metrics import accuracy_score, recall_score, precision_score, f1_score, confusion_matrix\n",
        "import matplotlib.pyplot as plt\n",
        "import seaborn as sns\n",
        "x = list(range(1, epochs + 1))\n",
        "\n",
        "plt.plot(x, train_accuracy_log, label=\"Train accuracy\")\n",
        "plt.plot(x, test_accuracy_log, label=\"Test accuracy\")\n",
        "plt.xlabel(\"Epoch\")\n",
        "plt.ylabel(\"Loss\")\n",
        "plt.title(\"Learning Curve\")\n",
        "plt.grid(axis = 'y')\n",
        "plt.show()"
      ]
    },
    {
      "cell_type": "markdown",
      "metadata": {
        "id": "_HFPc1uYP4Wd"
      },
      "source": [
        "### Validation\n",
        "- Accuracy\n",
        "- Precusion\n",
        "- Recall\n",
        "- Confusion Matrix\n",
        "- ROC"
      ]
    },
    {
      "cell_type": "code",
      "execution_count": null,
      "metadata": {
        "colab": {
          "base_uri": "https://localhost:8080/",
          "height": 541
        },
        "id": "UzxwYzdcP4Wg",
        "outputId": "a8d3c6fc-a06e-4c47-862c-b4c3507bc640"
      },
      "outputs": [
        {
          "output_type": "display_data",
          "data": {
            "text/plain": [
              "<Figure size 640x480 with 2 Axes>"
            ],
            "image/png": "[encoded data removed]"
          },
          "metadata": {}
        },
        {
          "output_type": "stream",
          "name": "stdout",
          "text": [
            "Accuracy:  0.9696\n",
            "Precision: 0.9722\n",
            "Recall:    0.9686\n",
            "F1 Score:  0.9704\n"
          ]
        }
      ],
      "source": [
        "model.eval()\n",
        "\n",
        "all_preds = []\n",
        "all_labels = []\n",
        "all_results = []\n",
        "\n",
        "with torch.no_grad():\n",
        "    for X, y in test_loader:\n",
        "        outputs = model.cpu()(X.cpu())\n",
        "        all_results.append(outputs)\n",
        "        preds = torch.argmax(outputs, dim=1)\n",
        "        all_labels.append(y.cpu())\n",
        "        all_preds.append(preds)\n",
        "\n",
        "accuracy = accuracy_score(all_labels, all_preds)\n",
        "precision = precision_score(all_labels, all_preds)\n",
        "recall = recall_score(all_labels, all_preds)\n",
        "f1 = f1_score(all_labels, all_preds)\n",
        "conf_matrix = confusion_matrix(all_labels, all_preds)\n",
        "\n",
        "sns.heatmap(conf_matrix, annot=True, fmt='d', cmap='Blues',\n",
        "            xticklabels=[\"Female\", \"Male\"], yticklabels=[\"Female\", \"Male\"])\n",
        "plt.xlabel('Predicted')\n",
        "plt.ylabel('Actual')\n",
        "plt.title('Confusion Matrix')\n",
        "\n",
        "plt.show()\n",
        "print(f\"Accuracy:  {accuracy:.4f}\")\n",
        "print(f\"Precision: {precision:.4f}\")\n",
        "print(f\"Recall:    {recall:.4f}\")\n",
        "print(f\"F1 Score:  {f1:.4f}\")"
      ]
    },
    {
      "cell_type": "markdown",
      "source": [
        "### ROC curve"
      ],
      "metadata": {
        "id": "qKrl8cU55Qcn"
      }
    },
    {
      "cell_type": "code",
      "source": [
        "import numpy as np\n",
        "# TPR = TP / (TP + FN)\n",
        "TPR = conf_matrix[0,0]/(conf_matrix[0,0] + conf_matrix[1, 0])\n",
        "# FPR = FP / (FP + TN)\n",
        "FPR = conf_matrix[0, 1]/(conf_matrix[0, 1] + conf_matrix[1, 1])\n",
        "\n",
        "# plot ROC\n",
        "plt.plot(FPR, TPR, 'o', label=\"ROC point\")\n",
        "plt.plot(np.linspace(0,1), np.linspace(0,1), color=\"red\", linestyle=\"--\",label=\"random classifier\")\n",
        "plt.xlabel(\"False positive rate\")\n",
        "plt.ylabel(\"True positive rate\")\n",
        "plt.title(\"ROC points\")\n",
        "plt.xlim(0, 1)\n",
        "plt.ylim(0, 1)\n",
        "plt.legend()\n",
        "plt.show()\n",
        "\n"
      ],
      "metadata": {
        "colab": {
          "base_uri": "https://localhost:8080/",
          "height": 472
        },
        "id": "EpK18_37t_kF",
        "outputId": "3738cadf-e616-46e6-a314-8a08cc787081"
      },
      "execution_count": null,
      "outputs": [
        {
          "output_type": "display_data",
          "data": {
            "text/plain": [
              "<Figure size 640x480 with 1 Axes>"
            ],
            "image/png": "[encoded data removed]"
          },
          "metadata": {}
        }
      ]
    },
    {
      "cell_type": "markdown",
      "source": [
        "### Predefined models benchmark"
      ],
      "metadata": {
        "id": "DLoyXFwG6pQH"
      }
    },
    {
      "cell_type": "code",
      "source": [
        "!pip install -q scikit-learn pandas\n",
        "import pandas as pd\n",
        "from sklearn.metrics import accuracy_score\n",
        "from sklearn.model_selection import train_test_split\n",
        "from sklearn.svm import SVC\n",
        "from sklearn.ensemble import RandomForestClassifier\n",
        "from sklearn.neighbors import KNeighborsClassifier\n",
        "from sklearn.linear_model import LogisticRegression\n",
        "from sklearn.naive_bayes import GaussianNB\n",
        "from sklearn.tree import DecisionTreeClassifier\n",
        "\n",
        "df = pd.read_csv(\"/content/hr_data_gold.csv\")\n",
        "feature_names = [c for c in df.columns if c != \"Gender_Male\"]\n",
        "label_name = \"Gender_Male\"\n",
        "X_train, X_test, y_train, y_test = train_test_split(df[feature_names], df[label_name], test_size = 0.2, random_state=42)\n",
        "\n",
        "models = {\n",
        "    \"SVC\": SVC(probability=True),\n",
        "    \"RandomForestClassifier\": RandomForestClassifier(),\n",
        "    \"KNeighborsClassifier\": KNeighborsClassifier(),\n",
        "    \"LogisticRegression\": LogisticRegression(),\n",
        "    \"GaussianNB\": GaussianNB(),\n",
        "    \"DecisionTreeClassifier\": DecisionTreeClassifier()\n",
        "}\n",
        "results = {}\n",
        "\n",
        "for name, model in models.items():\n",
        "  model.fit(X_train, y_train)\n",
        "  y_pred = model.predict(X_test)\n",
        "  results[name] = {\"accuracy_score\": accuracy_score(y_test, y_pred)}\n",
        "  print(f\"{name} model accuracy: {results[name]['accuracy_score']}\")\n"
      ],
      "metadata": {
        "id": "WpiKp45M6vHv",
        "colab": {
          "base_uri": "https://localhost:8080/"
        },
        "outputId": "46046094-13a0-441c-8501-bcc798248c19"
      },
      "execution_count": null,
      "outputs": [
        {
          "output_type": "stream",
          "name": "stdout",
          "text": [
            "SVC model accuracy: 0.8039961941008563\n",
            "RandomForestClassifier model accuracy: 0.9980970504281637\n",
            "KNeighborsClassifier model accuracy: 0.7354900095147479\n",
            "LogisticRegression model accuracy: 0.5680304471931494\n",
            "GaussianNB model accuracy: 0.5204567078972407\n",
            "DecisionTreeClassifier model accuracy: 0.9914367269267365\n"
          ]
        }
      ]
    },
    {
      "cell_type": "markdown",
      "source": [
        "RandomForestClassifier has over 99,8% accuracy tested on never-seen data. However tree models are bad at generalizing but still the performence is impressive. It would be awesome to see how the model works on data from other companies or countries and it it remains high"
      ],
      "metadata": {
        "id": "XXTpky9VrNsA"
      }
    },
    {
      "cell_type": "code",
      "source": [
        "df.columns"
      ],
      "metadata": {
        "colab": {
          "base_uri": "https://localhost:8080/"
        },
        "id": "f8uKHE1ssNAL",
        "outputId": "e0c8ad4a-2970-4ee0-9946-f065dac01c8c"
      },
      "execution_count": null,
      "outputs": [
        {
          "output_type": "execute_result",
          "data": {
            "text/plain": [
              "Index(['Age', 'Attrition', 'DistanceFromHome', 'Education', 'JobLevel',\n",
              "       'MonthlyIncome', 'NumCompaniesWorked', 'PercentSalaryHike',\n",
              "       'StockOptionLevel', 'TotalWorkingYears', 'TrainingTimesLastYear',\n",
              "       'YearsAtCompany', 'YearsSinceLastPromotion', 'YearsWithCurrManager',\n",
              "       'BusinessTravel_Travel_Frequently', 'BusinessTravel_Travel_Rarely',\n",
              "       'Department_Research & Development', 'Department_Sales',\n",
              "       'EducationField_Life Sciences', 'EducationField_Marketing',\n",
              "       'EducationField_Medical', 'EducationField_Other',\n",
              "       'EducationField_Technical Degree', 'JobRole_Human Resources',\n",
              "       'JobRole_Laboratory Technician', 'JobRole_Manager',\n",
              "       'JobRole_Manufacturing Director', 'JobRole_Research Director',\n",
              "       'JobRole_Research Scientist', 'JobRole_Sales Executive',\n",
              "       'JobRole_Sales Representative', 'MaritalStatus_Married',\n",
              "       'MaritalStatus_Single', 'Gender_Male'],\n",
              "      dtype='object')"
            ]
          },
          "metadata": {},
          "execution_count": 12
        }
      ]
    },
    {
      "cell_type": "code",
      "source": [
        "df[['Department_Research & Development', 'Department_Sales']].value_counts()"
      ],
      "metadata": {
        "colab": {
          "base_uri": "https://localhost:8080/",
          "height": 210
        },
        "id": "L-xvEsrJsBZX",
        "outputId": "1f3ebf72-ab30-421a-8379-01fcbe61faa1"
      },
      "execution_count": null,
      "outputs": [
        {
          "output_type": "execute_result",
          "data": {
            "text/plain": [
              "Department_Research & Development  Department_Sales\n",
              "1                                  0                   3373\n",
              "0                                  1                   1545\n",
              "                                   0                    334\n",
              "Name: count, dtype: int64"
            ],
            "text/html": [
              "<div>\n",
              "<style scoped>\n",
              "    .dataframe tbody tr th:only-of-type {\n",
              "        vertical-align: middle;\n",
              "    }\n",
              "\n",
              "    .dataframe tbody tr th {\n",
              "        vertical-align: top;\n",
              "    }\n",
              "\n",
              "    .dataframe thead th {\n",
              "        text-align: right;\n",
              "    }\n",
              "</style>\n",
              "<table border=\"1\" class=\"dataframe\">\n",
              "  <thead>\n",
              "    <tr style=\"text-align: right;\">\n",
              "      <th></th>\n",
              "      <th></th>\n",
              "      <th>count</th>\n",
              "    </tr>\n",
              "    <tr>\n",
              "      <th>Department_Research &amp; Development</th>\n",
              "      <th>Department_Sales</th>\n",
              "      <th></th>\n",
              "    </tr>\n",
              "  </thead>\n",
              "  <tbody>\n",
              "    <tr>\n",
              "      <th>1</th>\n",
              "      <th>0</th>\n",
              "      <td>3373</td>\n",
              "    </tr>\n",
              "    <tr>\n",
              "      <th rowspan=\"2\" valign=\"top\">0</th>\n",
              "      <th>1</th>\n",
              "      <td>1545</td>\n",
              "    </tr>\n",
              "    <tr>\n",
              "      <th>0</th>\n",
              "      <td>334</td>\n",
              "    </tr>\n",
              "  </tbody>\n",
              "</table>\n",
              "</div><br><label><b>dtype:</b> int64</label>"
            ]
          },
          "metadata": {},
          "execution_count": 18
        }
      ]
    },
    {
      "cell_type": "markdown",
      "metadata": {
        "id": "cS3fulDeP4Wl"
      },
      "source": [
        "### Feature importance analysis"
      ]
    },
    {
      "cell_type": "code",
      "execution_count": null,
      "metadata": {
        "id": "7Y9VPuZVP4Wm"
      },
      "outputs": [],
      "source": [
        "### Feature importance analysis with aggregated categorical features\n",
        "import numpy as np\n",
        "from sklearn.metrics import accuracy_score\n",
        "import matplotlib.pyplot as plt\n",
        "\n",
        "def calculate_permutation_importance(model, X, y, feature_names, n_repeats=10):\n",
        "    baseline_score = accuracy_score(y, model(X).argmax(dim=1))\n",
        "    importance_scores = []\n",
        "\n",
        "    for feature_idx in range(X.shape[1]):\n",
        "        feature_scores = []\n",
        "        for _ in range(n_repeats):\n",
        "            X_permuted = X.clone()\n",
        "            X_permuted[:, feature_idx] = X_permuted[:, feature_idx][torch.randperm(X.shape[0])]\n",
        "            score = accuracy_score(y, model(X_permuted).argmax(dim=1))\n",
        "            feature_scores.append(baseline_score - score)\n",
        "        importance_scores.append(np.mean(feature_scores))\n",
        "\n",
        "    return importance_scores\n",
        "\n",
        "# Get test data\n",
        "test_features, test_labels = ds_test[:][0].cpu(), ds_test[:][1].cpu()\n",
        "\n",
        "# Calculate feature importance\n",
        "importance_scores = calculate_permutation_importance(model.cpu(), test_features.cpu(), test_labels.cpu(), features.cpu())\n",
        "\n",
        "# Group related features\n",
        "feature_groups = {\n",
        "    'EducationField': [f for f in features if f.startswith('EducationField_')],\n",
        "    'Department': [f for f in features if f.startswith('Department_')],\n",
        "    'JobRole': [f for f in features if f.startswith('JobRole_')],\n",
        "    'BusinessTravel': [f for f in features if f.startswith('BusinessTravel_')],\n",
        "    'MaritalStatus': [f for f in features if f.startswith('MaritalStatus_')]\n",
        "}\n",
        "\n",
        "# Calculate aggregated importance scores\n",
        "aggregated_scores = {}\n",
        "for group_name, group_features in feature_groups.items():\n",
        "    if group_features:\n",
        "        group_indices = [features.index(f) for f in group_features]\n",
        "        aggregated_scores[group_name] = np.mean([importance_scores[i] for i in group_indices])\n",
        "\n",
        "# Add individual numeric features\n",
        "numeric_features = [f for f in features if f not in [item for sublist in feature_groups.values() for item in sublist]]\n",
        "for feature in numeric_features:\n",
        "    aggregated_scores[feature] = importance_scores[features.index(feature)]\n",
        "\n",
        "# Sort features by importance\n",
        "sorted_features = sorted(aggregated_scores.items(), key=lambda x: x[1])\n",
        "feature_names = [f[0] for f in sorted_features]\n",
        "scores = [f[1] for f in sorted_features]\n",
        "\n",
        "# Plot feature importance\n",
        "plt.figure(figsize=(12, 8))\n",
        "plt.barh(range(len(feature_names)), scores)\n",
        "plt.yticks(range(len(feature_names)), feature_names)\n",
        "plt.xlabel('Feature Importance (Decrease in Accuracy)')\n",
        "plt.title('Feature Importance Analysis (Aggregated Categorical Features)')\n",
        "plt.tight_layout()\n",
        "plt.show()\n",
        "\n",
        "# Print all features with their importance scores\n",
        "print(\"\\nFeature Importance Scores:\")\n",
        "for feature, score in sorted_features:\n",
        "    print(f\"{feature}: {score:.4f}\")"
      ]
    },
    {
      "cell_type": "code",
      "source": [],
      "metadata": {
        "id": "VG9vClIsdkkr"
      },
      "execution_count": null,
      "outputs": []
    }
  ],
  "metadata": {
    "kernelspec": {
      "display_name": "Python 3",
      "name": "python3"
    },
    "language_info": {
      "codemirror_mode": {
        "name": "ipython",
        "version": 3
      },
      "file_extension": ".py",
      "mimetype": "text/x-python",
      "name": "python",
      "nbconvert_exporter": "python",
      "pygments_lexer": "ipython3",
      "version": "3.12.9"
    },
    "colab": {
      "provenance": [],
      "gpuType": "T4"
    },
    "accelerator": "GPU"
  },
  "nbformat": 4,
  "nbformat_minor": 0
}