{
  "cells": [
    {
      "cell_type": "markdown",
      "metadata": {
        "id": "qyNGgQ1Bd4LR"
      },
      "source": [
        "# Lab 1 Model definition and training"
      ]
    },
    {
      "cell_type": "markdown",
      "metadata": {
        "id": "O35296RdP4V7"
      },
      "source": [
        "### Model definition"
      ]
    },
    {
      "cell_type": "code",
      "execution_count": 10,
      "metadata": {
        "id": "eKJRfWIFP4WB"
      },
      "outputs": [],
      "source": [
        "!pip install -q numpy torch\n",
        "#!pip install scikit-learn pandas torch"
      ]
    },
    {
      "cell_type": "markdown",
      "metadata": {
        "id": "d-1dKGTXCWVC"
      },
      "source": [
        "Use gpu if possible"
      ]
    },
    {
      "cell_type": "code",
      "execution_count": 11,
      "metadata": {
        "colab": {
          "base_uri": "https://localhost:8080/"
        },
        "id": "v8L9TbjiCdcQ",
        "outputId": "dbbcfd7e-5b13-4d0b-ed64-2683c88f4a8c"
      },
      "outputs": [
        {
          "name": "stdout",
          "output_type": "stream",
          "text": [
            "Using cuda device\n"
          ]
        }
      ],
      "source": [
        "import torch\n",
        "device = \"cuda\" if torch.cuda.is_available() else \"cpu\"\n",
        "print(f\"Using {device} device\")"
      ]
    },
    {
      "cell_type": "markdown",
      "metadata": {
        "id": "IjPubh3bP4WF"
      },
      "source": [
        "### Define a model"
      ]
    },
    {
      "cell_type": "code",
      "execution_count": 12,
      "metadata": {
        "id": "yD28mXL1P4WH"
      },
      "outputs": [],
      "source": [
        "import torch.nn as nn\n",
        "\n",
        "class GenderClassifier(nn.Module):\n",
        "\n",
        "    def __init__(self, input_size: int, hidden1_size: int, hidden2_size: int, output_size: int):\n",
        "        super(GenderClassifier, self).__init__()\n",
        "        self.fc1 = nn.Linear(input_size, hidden1_size)\n",
        "        self.fc2 = nn.Linear(hidden1_size, hidden2_size)\n",
        "        self.fc3 = nn.Linear(hidden2_size, output_size)\n",
        "\n",
        "        self.relu = nn.ReLU()\n",
        "        self.softmax = nn.Softmax(1)\n",
        "\n",
        "    def forward(self, x):\n",
        "        x = self.relu(self.fc1(x))\n",
        "        x = self.relu(self.fc2(x))\n",
        "        x = self.softmax(self.fc3(x))\n",
        "\n",
        "        return x\n"
      ]
    },
    {
      "cell_type": "markdown",
      "metadata": {
        "id": "qEO5a3wVP4WK"
      },
      "source": [
        "### Load and prepare dataset"
      ]
    },
    {
      "cell_type": "code",
      "execution_count": 13,
      "metadata": {
        "id": "riasW814P4WM"
      },
      "outputs": [],
      "source": [
        "from torch.utils.data import DataLoader, TensorDataset, random_split\n",
        "import torch\n",
        "import pandas as pd\n",
        "\n",
        "df = pd.read_csv(\"hr_data_gold.csv\")\n",
        "\n",
        "label = 'Gender_Male'\n",
        "features = [c for c in df.columns if c != label]\n",
        "\n",
        "# create tensors\n",
        "X = torch.tensor(df[features].values, dtype=torch.float32).to(device)\n",
        "y = torch.tensor(df[label].values, dtype=torch.long).to(device)\n",
        "\n",
        "# create tensor dataframe\n",
        "ds = TensorDataset(X, y)\n",
        "\n",
        "# split data\n",
        "train_size = int(0.8 * len(ds))\n",
        "test_size = len(ds) - train_size\n",
        "ds_train, ds_test = random_split(ds, [train_size, test_size])\n",
        "\n",
        "# create loaders\n",
        "all_loader  = DataLoader(ds, batch_size=1, shuffle=False)\n",
        "train_loader = DataLoader(ds_train, batch_size=32, shuffle=True)\n",
        "test_loader = DataLoader(ds_test, batch_size=1, shuffle=True)"
      ]
    },
    {
      "cell_type": "markdown",
      "metadata": {
        "id": "m1jnIyZ4P4WP"
      },
      "source": [
        "### Learn model 96 x 48"
      ]
    },
    {
      "cell_type": "code",
      "execution_count": 14,
      "metadata": {
        "colab": {
          "base_uri": "https://localhost:8080/"
        },
        "id": "qbhtaaCMP4WR",
        "outputId": "0c72d39d-fe8d-4023-b60e-30230fa60c3b"
      },
      "outputs": [
        {
          "name": "stdout",
          "output_type": "stream",
          "text": [
            "CPU times: user 3 µs, sys: 0 ns, total: 3 µs\n",
            "Wall time: 6.91 µs\n",
            "Progress: 0.0 %\n",
            "Progress: 0.3 %\n",
            "Progress: 0.7 %\n",
            "Progress: 1.0 %\n",
            "Progress: 1.3 %\n",
            "Progress: 1.7 %\n",
            "Progress: 2.0 %\n",
            "Progress: 2.3 %\n",
            "Progress: 2.7 %\n",
            "Progress: 3.0 %\n",
            "Progress: 3.3 %\n",
            "Progress: 3.7 %\n",
            "Progress: 4.0 %\n",
            "Progress: 4.3 %\n",
            "Progress: 4.7 %\n",
            "Progress: 5.0 %\n",
            "Progress: 5.3 %\n",
            "Progress: 5.7 %\n",
            "Progress: 6.0 %\n",
            "Progress: 6.3 %\n",
            "Progress: 6.7 %\n",
            "Progress: 7.0 %\n",
            "Progress: 7.3 %\n",
            "Progress: 7.7 %\n",
            "Progress: 8.0 %\n",
            "Progress: 8.3 %\n",
            "Progress: 8.7 %\n",
            "Progress: 9.0 %\n",
            "Progress: 9.3 %\n",
            "Progress: 9.7 %\n",
            "Progress: 10.0 %\n",
            "Progress: 10.3 %\n",
            "Progress: 10.7 %\n",
            "Progress: 11.0 %\n",
            "Progress: 11.3 %\n",
            "Progress: 11.7 %\n",
            "Progress: 12.0 %\n",
            "Progress: 12.3 %\n",
            "Progress: 12.7 %\n",
            "Progress: 13.0 %\n",
            "Progress: 13.3 %\n",
            "Progress: 13.7 %\n",
            "Progress: 14.0 %\n",
            "Progress: 14.3 %\n",
            "Progress: 14.7 %\n",
            "Progress: 15.0 %\n",
            "Progress: 15.3 %\n",
            "Progress: 15.7 %\n",
            "Progress: 16.0 %\n",
            "Progress: 16.3 %\n",
            "Progress: 16.7 %\n",
            "Progress: 17.0 %\n",
            "Progress: 17.3 %\n",
            "Progress: 17.7 %\n",
            "Progress: 18.0 %\n",
            "Progress: 18.3 %\n",
            "Progress: 18.7 %\n",
            "Progress: 19.0 %\n",
            "Progress: 19.3 %\n",
            "Progress: 19.7 %\n",
            "Progress: 20.0 %\n",
            "Progress: 20.3 %\n",
            "Progress: 20.7 %\n",
            "Progress: 21.0 %\n",
            "Progress: 21.3 %\n",
            "Progress: 21.7 %\n",
            "Progress: 22.0 %\n",
            "Progress: 22.3 %\n",
            "Progress: 22.7 %\n",
            "Progress: 23.0 %\n",
            "Progress: 23.3 %\n",
            "Progress: 23.7 %\n",
            "Progress: 24.0 %\n",
            "Progress: 24.3 %\n",
            "Progress: 24.7 %\n",
            "Progress: 25.0 %\n",
            "Progress: 25.3 %\n",
            "Progress: 25.7 %\n",
            "Progress: 26.0 %\n",
            "Progress: 26.3 %\n",
            "Progress: 26.7 %\n",
            "Progress: 27.0 %\n",
            "Progress: 27.3 %\n",
            "Progress: 27.7 %\n",
            "Progress: 28.0 %\n",
            "Progress: 28.3 %\n",
            "Progress: 28.7 %\n",
            "Progress: 29.0 %\n",
            "Progress: 29.3 %\n",
            "Progress: 29.7 %\n",
            "Progress: 30.0 %\n",
            "Progress: 30.3 %\n",
            "Progress: 30.7 %\n",
            "Progress: 31.0 %\n",
            "Progress: 31.3 %\n",
            "Progress: 31.7 %\n",
            "Progress: 32.0 %\n",
            "Progress: 32.3 %\n",
            "Progress: 32.7 %\n",
            "Progress: 33.0 %\n",
            "Progress: 33.3 %\n",
            "Progress: 33.7 %\n",
            "Progress: 34.0 %\n",
            "Progress: 34.3 %\n",
            "Progress: 34.7 %\n",
            "Progress: 35.0 %\n",
            "Progress: 35.3 %\n",
            "Progress: 35.7 %\n",
            "Progress: 36.0 %\n",
            "Progress: 36.3 %\n",
            "Progress: 36.7 %\n",
            "Progress: 37.0 %\n",
            "Progress: 37.3 %\n",
            "Progress: 37.7 %\n",
            "Progress: 38.0 %\n",
            "Progress: 38.3 %\n",
            "Progress: 38.7 %\n",
            "Progress: 39.0 %\n",
            "Progress: 39.3 %\n",
            "Progress: 39.7 %\n",
            "Progress: 40.0 %\n",
            "Progress: 40.3 %\n",
            "Progress: 40.7 %\n",
            "Progress: 41.0 %\n",
            "Progress: 41.3 %\n",
            "Progress: 41.7 %\n",
            "Progress: 42.0 %\n",
            "Progress: 42.3 %\n",
            "Progress: 42.7 %\n",
            "Progress: 43.0 %\n",
            "Progress: 43.3 %\n",
            "Progress: 43.7 %\n",
            "Progress: 44.0 %\n",
            "Progress: 44.3 %\n",
            "Progress: 44.7 %\n",
            "Progress: 45.0 %\n",
            "Progress: 45.3 %\n",
            "Progress: 45.7 %\n",
            "Progress: 46.0 %\n",
            "Progress: 46.3 %\n",
            "Progress: 46.7 %\n",
            "Progress: 47.0 %\n",
            "Progress: 47.3 %\n",
            "Progress: 47.7 %\n",
            "Progress: 48.0 %\n",
            "Progress: 48.3 %\n",
            "Progress: 48.7 %\n",
            "Progress: 49.0 %\n",
            "Progress: 49.3 %\n",
            "Progress: 49.7 %\n",
            "Progress: 50.0 %\n",
            "Progress: 50.3 %\n",
            "Progress: 50.7 %\n",
            "Progress: 51.0 %\n",
            "Progress: 51.3 %\n",
            "Progress: 51.7 %\n",
            "Progress: 52.0 %\n",
            "Progress: 52.3 %\n",
            "Progress: 52.7 %\n",
            "Progress: 53.0 %\n",
            "Progress: 53.3 %\n",
            "Progress: 53.7 %\n",
            "Progress: 54.0 %\n",
            "Progress: 54.3 %\n",
            "Progress: 54.7 %\n",
            "Progress: 55.0 %\n",
            "Progress: 55.3 %\n",
            "Progress: 55.7 %\n",
            "Progress: 56.0 %\n",
            "Progress: 56.3 %\n",
            "Progress: 56.7 %\n",
            "Progress: 57.0 %\n",
            "Progress: 57.3 %\n",
            "Progress: 57.7 %\n",
            "Progress: 58.0 %\n",
            "Progress: 58.3 %\n",
            "Progress: 58.7 %\n",
            "Progress: 59.0 %\n",
            "Progress: 59.3 %\n",
            "Progress: 59.7 %\n",
            "Progress: 60.0 %\n",
            "Progress: 60.3 %\n",
            "Progress: 60.7 %\n",
            "Progress: 61.0 %\n",
            "Progress: 61.3 %\n",
            "Progress: 61.7 %\n",
            "Progress: 62.0 %\n",
            "Progress: 62.3 %\n",
            "Progress: 62.7 %\n",
            "Progress: 63.0 %\n",
            "Progress: 63.3 %\n",
            "Progress: 63.7 %\n",
            "Progress: 64.0 %\n",
            "Progress: 64.3 %\n",
            "Progress: 64.7 %\n",
            "Progress: 65.0 %\n",
            "Progress: 65.3 %\n",
            "Progress: 65.7 %\n",
            "Progress: 66.0 %\n",
            "Progress: 66.3 %\n",
            "Progress: 66.7 %\n",
            "Progress: 67.0 %\n",
            "Progress: 67.3 %\n",
            "Progress: 67.7 %\n",
            "Progress: 68.0 %\n",
            "Progress: 68.3 %\n",
            "Progress: 68.7 %\n",
            "Progress: 69.0 %\n",
            "Progress: 69.3 %\n",
            "Progress: 69.7 %\n",
            "Progress: 70.0 %\n",
            "Progress: 70.3 %\n",
            "Progress: 70.7 %\n",
            "Progress: 71.0 %\n",
            "Progress: 71.3 %\n",
            "Progress: 71.7 %\n",
            "Progress: 72.0 %\n",
            "Progress: 72.3 %\n",
            "Progress: 72.7 %\n",
            "Progress: 73.0 %\n",
            "Progress: 73.3 %\n",
            "Progress: 73.7 %\n",
            "Progress: 74.0 %\n",
            "Progress: 74.3 %\n",
            "Progress: 74.7 %\n",
            "Progress: 75.0 %\n",
            "Progress: 75.3 %\n",
            "Progress: 75.7 %\n",
            "Progress: 76.0 %\n",
            "Progress: 76.3 %\n",
            "Progress: 76.7 %\n",
            "Progress: 77.0 %\n",
            "Progress: 77.3 %\n",
            "Progress: 77.7 %\n",
            "Progress: 78.0 %\n",
            "Progress: 78.3 %\n",
            "Progress: 78.7 %\n",
            "Progress: 79.0 %\n",
            "Progress: 79.3 %\n",
            "Progress: 79.7 %\n",
            "Progress: 80.0 %\n",
            "Progress: 80.3 %\n",
            "Progress: 80.7 %\n",
            "Progress: 81.0 %\n",
            "Progress: 81.3 %\n",
            "Progress: 81.7 %\n",
            "Progress: 82.0 %\n",
            "Progress: 82.3 %\n",
            "Progress: 82.7 %\n",
            "Progress: 83.0 %\n",
            "Progress: 83.3 %\n",
            "Progress: 83.7 %\n",
            "Progress: 84.0 %\n",
            "Progress: 84.3 %\n",
            "Progress: 84.7 %\n",
            "Progress: 85.0 %\n",
            "Progress: 85.3 %\n",
            "Progress: 85.7 %\n",
            "Progress: 86.0 %\n",
            "Progress: 86.3 %\n",
            "Progress: 86.7 %\n",
            "Progress: 87.0 %\n",
            "Progress: 87.3 %\n",
            "Progress: 87.7 %\n",
            "Progress: 88.0 %\n",
            "Progress: 88.3 %\n",
            "Progress: 88.7 %\n",
            "Progress: 89.0 %\n",
            "Progress: 89.3 %\n",
            "Progress: 89.7 %\n",
            "Progress: 90.0 %\n",
            "Progress: 90.3 %\n",
            "Progress: 90.7 %\n",
            "Progress: 91.0 %\n",
            "Progress: 91.3 %\n",
            "Progress: 91.7 %\n",
            "Progress: 92.0 %\n",
            "Progress: 92.3 %\n",
            "Progress: 92.7 %\n",
            "Progress: 93.0 %\n",
            "Progress: 93.3 %\n",
            "Progress: 93.7 %\n",
            "Progress: 94.0 %\n",
            "Progress: 94.3 %\n",
            "Progress: 94.7 %\n",
            "Progress: 95.0 %\n",
            "Progress: 95.3 %\n",
            "Progress: 95.7 %\n",
            "Progress: 96.0 %\n",
            "Progress: 96.3 %\n",
            "Progress: 96.7 %\n",
            "Progress: 97.0 %\n",
            "Progress: 97.3 %\n",
            "Progress: 97.7 %\n",
            "Progress: 98.0 %\n",
            "Progress: 98.3 %\n",
            "Progress: 98.7 %\n",
            "Progress: 99.0 %\n",
            "Progress: 99.3 %\n",
            "Progress: 99.7 %\n"
          ]
        }
      ],
      "source": [
        "import torch.optim as optim\n",
        "from sklearn.metrics import accuracy_score\n",
        "\n",
        "%time\n",
        "model = GenderClassifier(len(features), 96, 48, 2).to(device)\n",
        "\n",
        "train_accuracy_log = []\n",
        "test_accuracy_log = []\n",
        "\n",
        "optimizer = optim.Adam(model.parameters(), lr=0.001)\n",
        "criterion = nn.CrossEntropyLoss()\n",
        "epochs = 300\n",
        "\n",
        "for epoch in range(epochs):\n",
        "    # train\n",
        "    model.train()\n",
        "    for X_batch, y_batch in train_loader:\n",
        "        optimizer.zero_grad()\n",
        "        output = model(X_batch)\n",
        "        loss = criterion(output, y_batch)\n",
        "        loss.backward()\n",
        "        optimizer.step()\n",
        "\n",
        "    # calculate train_ds and test_ds accuracy\n",
        "    with torch.no_grad():\n",
        "        model.eval()\n",
        "        train_features, train_labels = ds_train[:][0], ds_train[:][1]\n",
        "        # Process all features at once\n",
        "        train_pred = model(train_features).argmax(dim=1)\n",
        "        train_accuracy = accuracy_score(train_labels.cpu(), train_pred.cpu())\n",
        "        train_accuracy_log.append(train_accuracy)\n",
        "\n",
        "        test_features, test_labels = ds_test[:][0], ds_test[:][1]\n",
        "        # Process all features at once\n",
        "        test_pred = model(test_features).argmax(dim=1)\n",
        "        test_accuracy = accuracy_score(test_labels.cpu(), test_pred.cpu())\n",
        "        test_accuracy_log.append(test_accuracy)\n",
        "\n",
        "\n",
        "    print(f\"Progress: {epoch / epochs * 100:.1f} %\")"
      ]
    },
    {
      "cell_type": "markdown",
      "metadata": {
        "id": "gC4Ip4zNBLW5"
      },
      "source": [
        "### Save the model"
      ]
    },
    {
      "cell_type": "code",
      "execution_count": 15,
      "metadata": {
        "id": "gBvRzMxQez1G"
      },
      "outputs": [],
      "source": [
        "torch.save(model, \"/content/model_96_48_b32_e300.pt\")"
      ]
    },
    {
      "cell_type": "markdown",
      "metadata": {
        "id": "cceyhnGGTUJp"
      },
      "source": [
        "# Lab 2 - Model evaluation and optimization"
      ]
    },
    {
      "cell_type": "code",
      "execution_count": 16,
      "metadata": {
        "id": "MHYE82vKBOIp"
      },
      "outputs": [],
      "source": [
        "model = torch.load(\"/content/model_96_48_b32_e300.pt\", weights_only=False)"
      ]
    },
    {
      "cell_type": "code",
      "execution_count": 17,
      "metadata": {
        "colab": {
          "base_uri": "https://localhost:8080/",
          "height": 472
        },
        "id": "Vyh7wqr4P4Wb",
        "outputId": "4bf96689-f2db-4f88-df1d-eb7f89ef35d5"
      },
      "outputs": [
        {
          "data": {
            "image/png": "[encoded data removed]",
            "text/plain": [
              "<Figure size 640x480 with 1 Axes>"
            ]
          },
          "metadata": {},
          "output_type": "display_data"
        }
      ],
      "source": [
        "from sklearn.metrics import accuracy_score, recall_score, precision_score, f1_score, confusion_matrix\n",
        "import matplotlib.pyplot as plt\n",
        "import seaborn as sns\n",
        "x = list(range(1, epochs + 1))\n",
        "\n",
        "plt.plot(x, train_accuracy_log, label=\"Train accuracy\")\n",
        "plt.plot(x, test_accuracy_log, label=\"Test accuracy\")\n",
        "plt.xlabel(\"Epoch\")\n",
        "plt.ylabel(\"Loss\")\n",
        "plt.title(\"Learning Curve\")\n",
        "plt.grid(axis = 'y')\n",
        "plt.show()"
      ]
    },
    {
      "cell_type": "markdown",
      "metadata": {
        "id": "_HFPc1uYP4Wd"
      },
      "source": [
        "### Validation\n",
        "- Accuracy\n",
        "- Precusion\n",
        "- Recall\n",
        "- Confusion Matrix\n",
        "- ROC"
      ]
    },
    {
      "cell_type": "code",
      "execution_count": 18,
      "metadata": {
        "colab": {
          "base_uri": "https://localhost:8080/",
          "height": 546
        },
        "id": "UzxwYzdcP4Wg",
        "outputId": "733e0dde-5dee-4970-d821-ce6397f2f98e"
      },
      "outputs": [
        {
          "data": {
            "image/png": "[encoded data removed]",
            "text/plain": [
              "<Figure size 640x480 with 2 Axes>"
            ]
          },
          "metadata": {},
          "output_type": "display_data"
        },
        {
          "name": "stdout",
          "output_type": "stream",
          "text": [
            "Accuracy:  0.9353\n",
            "Precision: 0.9276\n",
            "Recall:    0.9420\n",
            "F1 Score:  0.9347\n"
          ]
        }
      ],
      "source": [
        "from sklearn.metrics import accuracy_score, recall_score, precision_score, f1_score, confusion_matrix\n",
        "import matplotlib.pyplot as plt\n",
        "\n",
        "model.eval()\n",
        "\n",
        "all_preds = []\n",
        "all_labels = []\n",
        "all_results = []\n",
        "\n",
        "with torch.no_grad():\n",
        "    for X, y in test_loader:\n",
        "        outputs = model.cpu()(X.cpu())\n",
        "        all_results.append(outputs[0])\n",
        "        preds = torch.argmax(outputs, dim=1)\n",
        "        all_labels.append(y.cpu())\n",
        "        all_preds.append(preds)\n",
        "\n",
        "accuracy = accuracy_score(all_labels, all_preds)\n",
        "precision = precision_score(all_labels, all_preds)\n",
        "recall = recall_score(all_labels, all_preds)\n",
        "f1 = f1_score(all_labels, all_preds)\n",
        "conf_matrix = confusion_matrix(all_labels, all_preds)\n",
        "\n",
        "\n",
        "\n",
        "sns.heatmap(conf_matrix, annot=True, fmt='d', cmap='Blues',\n",
        "            xticklabels=[\"Female\", \"Male\"], yticklabels=[\"Female\", \"Male\"])\n",
        "plt.xlabel('Predicted')\n",
        "plt.ylabel('Actual')\n",
        "plt.title('Confusion Matrix')\n",
        "\n",
        "plt.show()\n",
        "print(f\"Accuracy:  {accuracy:.4f}\")\n",
        "print(f\"Precision: {precision:.4f}\")\n",
        "print(f\"Recall:    {recall:.4f}\")\n",
        "print(f\"F1 Score:  {f1:.4f}\")\n"
      ]
    },
    {
      "cell_type": "markdown",
      "metadata": {
        "id": "qKrl8cU55Qcn"
      },
      "source": [
        "### ROC curve"
      ]
    },
    {
      "cell_type": "code",
      "execution_count": 19,
      "metadata": {
        "colab": {
          "base_uri": "https://localhost:8080/",
          "height": 472
        },
        "id": "uSs1Jp4hOoRv",
        "outputId": "a5c91a62-f6aa-4af7-a56d-af27e10e5d2b"
      },
      "outputs": [
        {
          "data": {
            "image/png": "[encoded data removed]",
            "text/plain": [
              "<Figure size 640x480 with 1 Axes>"
            ]
          },
          "metadata": {},
          "output_type": "display_data"
        }
      ],
      "source": [
        "from sklearn.metrics import roc_curve, auc, roc_auc_score\n",
        "\n",
        "fpr, tpr, thresholds = roc_curve(all_labels, all_preds)\n",
        "auc_score = auc(fpr, tpr)\n",
        "\n",
        "# plot ROC\n",
        "plt.plot(fpr, tpr, label=\"ROC curve\")\n",
        "plt.plot([0,1], [0,1], color=\"red\", linestyle=\"--\",label=\"random classifier\")\n",
        "plt.xlabel(\"False positive rate\")\n",
        "plt.ylabel(\"True positive rate\")\n",
        "plt.title(\"ROC curve\")\n",
        "plt.xlim(0, 1)\n",
        "plt.ylim(0, 1)\n",
        "plt.legend()\n",
        "plt.show()"
      ]
    },
    {
      "cell_type": "markdown",
      "metadata": {
        "id": "Gq32GzyHS2U_"
      },
      "source": [
        "**Observation: For one model there is a ROC point not ROC curve**"
      ]
    },
    {
      "cell_type": "markdown",
      "metadata": {
        "id": "DLoyXFwG6pQH"
      },
      "source": [
        "### Predefined models benchmark"
      ]
    },
    {
      "cell_type": "code",
      "execution_count": 22,
      "metadata": {
        "colab": {
          "base_uri": "https://localhost:8080/"
        },
        "id": "WpiKp45M6vHv",
        "outputId": "300c5fca-a656-42d3-e01c-7930e62777e0"
      },
      "outputs": [
        {
          "name": "stdout",
          "output_type": "stream",
          "text": [
            "SVC model accuracy: 0.7935299714557564\n",
            "RandomForestClassifier model accuracy: 0.9980970504281637\n",
            "KNeighborsClassifier model accuracy: 0.7373929590865842\n",
            "LogisticRegression model accuracy: 0.5670789724072313\n",
            "GaussianNB model accuracy: 0.5318744053282588\n",
            "DecisionTreeClassifier model accuracy: 0.9847764034253093\n"
          ]
        }
      ],
      "source": [
        "!pip install -q scikit-learn pandas\n",
        "import pandas as pd\n",
        "from sklearn.metrics import accuracy_score\n",
        "from sklearn.model_selection import train_test_split\n",
        "from sklearn.svm import SVC\n",
        "from sklearn.ensemble import RandomForestClassifier\n",
        "from sklearn.neighbors import KNeighborsClassifier\n",
        "from sklearn.linear_model import LogisticRegression\n",
        "from sklearn.naive_bayes import GaussianNB\n",
        "from sklearn.tree import DecisionTreeClassifier\n",
        "\n",
        "df = pd.read_csv(\"/content/hr_data_gold.csv\")\n",
        "feature_names = [c for c in df.columns if c != \"Gender_Male\"]\n",
        "label_name = \"Gender_Male\"\n",
        "X_train, X_test, y_train, y_test = train_test_split(df[feature_names], df[label_name], test_size = 0.2, random_state=42)\n",
        "\n",
        "models = {\n",
        "    \"SVC\": SVC(probability=True),\n",
        "    \"RandomForestClassifier\": RandomForestClassifier(),\n",
        "    \"KNeighborsClassifier\": KNeighborsClassifier(),\n",
        "    \"LogisticRegression\": LogisticRegression(),\n",
        "    \"GaussianNB\": GaussianNB(),\n",
        "    \"DecisionTreeClassifier\": DecisionTreeClassifier()\n",
        "}\n",
        "results = {}\n",
        "\n",
        "for name, m in models.items():\n",
        "  m.fit(X_train, y_train)\n",
        "  y_pred = m.predict(X_test)\n",
        "  results[name] = {\"accuracy_score\": accuracy_score(y_test, y_pred)}\n",
        "  print(f\"{name} model accuracy: {results[name]['accuracy_score']}\")\n"
      ]
    },
    {
      "cell_type": "markdown",
      "metadata": {
        "id": "XXTpky9VrNsA"
      },
      "source": [
        "**RandomForestClassifier has over 99% accuracy tested on never-seen data. It would be awesome to see how the model works on data from other companies or countries and it it remains high**"
      ]
    },
    {
      "cell_type": "markdown",
      "metadata": {
        "id": "vabSCa3JB9G9"
      },
      "source": [
        "### Hiperparameters configuration"
      ]
    },
    {
      "cell_type": "code",
      "execution_count": 33,
      "metadata": {
        "id": "WB1b8FS2Dpch"
      },
      "outputs": [],
      "source": [
        "from sklearn.ensemble import RandomForestClassifier\n",
        "from sklearn.metrics import accuracy_score\n",
        "\n",
        "def estimate_model_accuracy(models_count: int, **kwargs) -> float:\n",
        "  basic_models = {f\"RandomForest_{i}\" : RandomForestClassifier(**kwargs) for i in range(models_count) }\n",
        "  accuracies = []\n",
        "\n",
        "  for n, m in basic_models.items():\n",
        "    m.fit(X_train, y_train)\n",
        "    y_pred = m.predict(X_test)\n",
        "    accuracy = accuracy_score(y_test, y_pred)\n",
        "    accuracies.append(accuracy)\n",
        "    print(f\"Model {n}: {accuracy:.4f}\")\n",
        "\n",
        "  mean_accuracy = sum(accuracies) / len(accuracies)\n",
        "  return mean_accuracy"
      ]
    },
    {
      "cell_type": "code",
      "execution_count": 35,
      "metadata": {
        "colab": {
          "base_uri": "https://localhost:8080/"
        },
        "id": "1UD43SSqCI3W",
        "outputId": "d32f7669-1c4a-48de-c2d6-30daf746cced"
      },
      "outputs": [
        {
          "name": "stdout",
          "output_type": "stream",
          "text": [
            "Model RandomForest_0: 0.9981\n",
            "Model RandomForest_1: 0.9981\n",
            "Model RandomForest_2: 0.9981\n",
            "Model RandomForest_3: 0.9981\n",
            "Model RandomForest_4: 0.9952\n",
            "==============================\n",
            "Mean accuracy: 0.9975\n"
          ]
        }
      ],
      "source": [
        "from sklearn.ensemble import RandomForestClassifier\n",
        "from sklearn.metrics import accuracy_score\n",
        "\n",
        "# lets take Random Forest model\n",
        "# lern 5 models with basic configuration and take mean as reference\n",
        "mean_accuracy = estimate_model_accuracy(5)\n",
        "print(f\"{30*'='}\\nMean accuracy: {mean_accuracy:.4f}\")"
      ]
    },
    {
      "cell_type": "markdown",
      "metadata": {
        "id": "zF6KoTvAK_pA"
      },
      "source": [
        "Now lest's try to search better configuration with:\n",
        "- [ ] Grid Search\n",
        "- [ ] Random Search\n",
        "- [ ] Bayesian Optimization"
      ]
    },
    {
      "cell_type": "code",
      "execution_count": 43,
      "metadata": {
        "colab": {
          "base_uri": "https://localhost:8080/"
        },
        "id": "bL6gdPO6H0nG",
        "outputId": "5d6b41dc-d76c-4f25-b5cd-7a5f42a5ed6e"
      },
      "outputs": [
        {
          "name": "stdout",
          "output_type": "stream",
          "text": [
            "Model RandomForest_0: 0.9971\n",
            "Model RandomForest_1: 0.9952\n",
            "Model RandomForest_2: 0.9971\n",
            "Model RandomForest_3: 0.9981\n",
            "Model RandomForest_4: 0.9981\n",
            "==============================\n",
            "Mean accuracy: 0.9971\n"
          ]
        }
      ],
      "source": [
        "# IMPLEMENTATION HERE..."
      ]
    },
    {
      "cell_type": "markdown",
      "metadata": {
        "id": "cS3fulDeP4Wl"
      },
      "source": [
        "### Feature importance analysis"
      ]
    },
    {
      "cell_type": "code",
      "execution_count": null,
      "metadata": {
        "id": "7Y9VPuZVP4Wm"
      },
      "outputs": [],
      "source": [
        "### Feature importance analysis with aggregated categorical features\n",
        "import numpy as np\n",
        "from sklearn.metrics import accuracy_score\n",
        "import matplotlib.pyplot as plt\n",
        "\n",
        "def calculate_permutation_importance(model, X, y, feature_names, n_repeats=10):\n",
        "    baseline_score = accuracy_score(y, model(X).argmax(dim=1))\n",
        "    importance_scores = []\n",
        "\n",
        "    for feature_idx in range(X.shape[1]):\n",
        "        feature_scores = []\n",
        "        for _ in range(n_repeats):\n",
        "            X_permuted = X.clone()\n",
        "            X_permuted[:, feature_idx] = X_permuted[:, feature_idx][torch.randperm(X.shape[0])]\n",
        "            score = accuracy_score(y, model(X_permuted).argmax(dim=1))\n",
        "            feature_scores.append(baseline_score - score)\n",
        "        importance_scores.append(np.mean(feature_scores))\n",
        "\n",
        "    return importance_scores\n",
        "\n",
        "# Get test data\n",
        "test_features, test_labels = ds_test[:][0].cpu(), ds_test[:][1].cpu()\n",
        "\n",
        "# Calculate feature importance\n",
        "importance_scores = calculate_permutation_importance(model.cpu(), test_features, test_labels, features)\n",
        "\n",
        "# Group related features\n",
        "feature_groups = {\n",
        "    'EducationField': [f for f in features if f.startswith('EducationField_')],\n",
        "    'Department': [f for f in features if f.startswith('Department_')],\n",
        "    'JobRole': [f for f in features if f.startswith('JobRole_')],\n",
        "    'BusinessTravel': [f for f in features if f.startswith('BusinessTravel_')],\n",
        "    'MaritalStatus': [f for f in features if f.startswith('MaritalStatus_')]\n",
        "}\n",
        "\n",
        "# Calculate aggregated importance scores\n",
        "aggregated_scores = {}\n",
        "for group_name, group_features in feature_groups.items():\n",
        "    if group_features:\n",
        "        group_indices = [features.index(f) for f in group_features]\n",
        "        aggregated_scores[group_name] = np.mean([importance_scores[i] for i in group_indices])\n",
        "\n",
        "# Add individual numeric features\n",
        "numeric_features = [f for f in features if f not in [item for sublist in feature_groups.values() for item in sublist]]\n",
        "for feature in numeric_features:\n",
        "    aggregated_scores[feature] = importance_scores[features.index(feature)]\n",
        "\n",
        "# Sort features by importance\n",
        "sorted_features = sorted(aggregated_scores.items(), key=lambda x: x[1])\n",
        "feature_names = [f[0] for f in sorted_features]\n",
        "scores = [f[1] for f in sorted_features]\n",
        "\n",
        "# Plot feature importance\n",
        "plt.figure(figsize=(12, 8))\n",
        "plt.barh(range(len(feature_names)), scores)\n",
        "plt.yticks(range(len(feature_names)), feature_names)\n",
        "plt.xlabel('Feature Importance (Decrease in Accuracy)')\n",
        "plt.title('Feature Importance Analysis (Aggregated Categorical Features)')\n",
        "plt.tight_layout()\n",
        "plt.show()\n",
        "\n",
        "# Print all features with their importance scores\n",
        "print(\"\\nFeature Importance Scores:\")\n",
        "for feature, score in sorted_features:\n",
        "    print(f\"{feature}: {score:.4f}\")"
      ]
    },
    {
      "cell_type": "code",
      "execution_count": null,
      "metadata": {
        "id": "VG9vClIsdkkr"
      },
      "outputs": [],
      "source": []
    }
  ],
  "metadata": {
    "accelerator": "GPU",
    "colab": {
      "gpuType": "T4",
      "provenance": []
    },
    "kernelspec": {
      "display_name": ".venv",
      "language": "python",
      "name": "python3"
    },
    "language_info": {
      "codemirror_mode": {
        "name": "ipython",
        "version": 3
      },
      "file_extension": ".py",
      "mimetype": "text/x-python",
      "name": "python",
      "nbconvert_exporter": "python",
      "pygments_lexer": "ipython3",
      "version": "3.12.9"
    }
  },
  "nbformat": 4,
  "nbformat_minor": 0
}
