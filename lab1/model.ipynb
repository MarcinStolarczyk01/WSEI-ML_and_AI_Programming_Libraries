{
 "cells": [
  {
   "cell_type": "markdown",
   "metadata": {},
   "source": [
    "## Model definition"
   ]
  },
  {
   "cell_type": "code",
   "execution_count": 55,
   "metadata": {},
   "outputs": [],
   "source": [
    "!pip install -q numpy torch --index-url https://download.pytorch.org/whl/cpu\n",
    "!pip install -q scikit-learn pandas "
   ]
  },
  {
   "cell_type": "code",
   "execution_count": 56,
   "metadata": {},
   "outputs": [],
   "source": [
    "import torch.nn as nn\n",
    "\n",
    "class GenderClassifier(nn.Module):\n",
    "\n",
    "    def __init__(self, input_size: int, hidden1_size: int, hidden2_size: int, output_size: int):\n",
    "        super(GenderClassifier, self).__init__()\n",
    "        self.fc1 = nn.Linear(input_size, hidden1_size)\n",
    "        self.fc2 = nn.Linear(hidden1_size, hidden2_size)\n",
    "        self.fc3 = nn.Linear(hidden2_size, output_size)\n",
    "\n",
    "        self.relu = nn.ReLU()\n",
    "        self.softmax = nn.Softmax(1)\n",
    "\n",
    "    def forward(self, x):\n",
    "        x = self.relu(self.fc1(x))\n",
    "        x = self.relu(self.fc2(x))\n",
    "        x = self.softmax(self.fc3(x))\n",
    "\n",
    "        return x\n"
   ]
  },
  {
   "cell_type": "markdown",
   "metadata": {},
   "source": [
    "### Load and prepare dataset"
   ]
  },
  {
   "cell_type": "code",
   "execution_count": 57,
   "metadata": {},
   "outputs": [],
   "source": [
    "from torch.utils.data import DataLoader, TensorDataset, random_split\n",
    "import torch\n",
    "import pandas as pd\n",
    "\n",
    "df = pd.read_csv(\"data/hr_data_gold.csv\")\n",
    "\n",
    "label = 'Gender_Male'\n",
    "features = [c for c in df.columns if c != label]\n",
    "\n",
    "# create tensors\n",
    "X = torch.tensor(df[features].values, dtype=torch.float32)\n",
    "y = torch.tensor(df[label], dtype=torch.long)\n",
    "\n",
    "# create tensor dataframe\n",
    "ds = TensorDataset(X, y)\n",
    "\n",
    "# split data\n",
    "train_size = int(0.8 * len(ds))\n",
    "test_size = len(ds) - train_size\n",
    "ds_train, ds_test = random_split(ds, [train_size, test_size])\n",
    "\n",
    "# create loaders\n",
    "train_loader = DataLoader(ds_train, batch_size=32, shuffle=True)\n",
    "test_loader = DataLoader(ds_test, batch_size=1, shuffle=True)"
   ]
  },
  {
   "cell_type": "markdown",
   "metadata": {},
   "source": [
    "### Learn model 48 x 24"
   ]
  },
  {
   "cell_type": "code",
   "execution_count": null,
   "metadata": {},
   "outputs": [],
   "source": [
    "import torch.optim as optim\n",
    "from sklearn.metrics import accuracy_score\n",
    "\n",
    "model = GenderClassifier(len(df.columns) - 1, 48, 24, 2)\n",
    "\n",
    "train_accuracy_log = []\n",
    "test_accuracy_log = []\n",
    "\n",
    "optimizer = optim.Adam(model.parameters(), lr=0.001)\n",
    "criterion = nn.CrossEntropyLoss()\n",
    "\n",
    "for epoch in range(1, 1001):\n",
    "    # train\n",
    "    for X_batch, y_batch in train_loader:\n",
    "        optimizer.zero_grad()\n",
    "        output = model(X_batch)\n",
    "        loss = criterion(output, y_batch)\n",
    "        loss.backward()\n",
    "        optimizer.step()\n",
    "    # calculate train_ds and test_ds accuracy\n",
    "    with torch.no_grad():\n",
    "        train_features, train_labels = ds_train[0], ds_train[1]\n",
    "        train_pred = [torch.argmax(model(X)) for X in train_features]\n",
    "        train_accuracy = accuracy_score(train_labels, train_pred)\n",
    "        train_accuracy_log.append(train_accuracy)\n",
    "\n",
    "        test_features, test_labels = ds_test[0], ds_test[1]\n",
    "        test_pred = [torch.argmax(model(X)) for X in test_features]\n",
    "        test_accuracy = accuracy_score(test_labels, test_pred)\n",
    "        test_accuracy_log.append(test_accuracy)\n",
    "\n",
    "    print(f\"Progress: {}\")\n"
   ]
  },
  {
   "cell_type": "markdown",
   "metadata": {},
   "source": [
    "### Learning curve"
   ]
  },
  {
   "cell_type": "code",
   "execution_count": null,
   "metadata": {},
   "outputs": [
    {
     "data": {
      "image/png": "[encoded data removed]",
      "text/plain": [
       "<Figure size 640x480 with 1 Axes>"
      ]
     },
     "metadata": {},
     "output_type": "display_data"
    }
   ],
   "source": [
    "!pip install -q matplotlib\n",
    "import matplotlib.pyplot as plt\n",
    "\n",
    "x = list(range(1, len(loss_log) + 1))\n",
    "\n",
    "plt.figure(x, loss_log)\n",
    "plt.xlabel(\"Epoch\")\n",
    "plt.ylabel(\"Loss\")\n",
    "plt.title(\"Learning Curve\")\n",
    "plt.grid(axis = 'y')\n",
    "plt.show()\n"
   ]
  },
  {
   "cell_type": "code",
   "execution_count": 64,
   "metadata": {},
   "outputs": [],
   "source": [
    "from sklearn.metrics import accuracy_score, recall_score, precision_score, f1_score, confusion_matrix\n",
    "\n",
    "model.eval()\n",
    "all_preds = []\n",
    "all_labels = []\n",
    "\n",
    "with torch.no_grad():\n",
    "    for X, y in test_loader:\n",
    "        outputs = model(X)\n",
    "        preds = torch.argmax(outputs, dim=1)\n",
    "        all_labels.append(y)\n",
    "        all_preds.append(preds)\n"
   ]
  },
  {
   "cell_type": "markdown",
   "metadata": {},
   "source": [
    "### Validation\n",
    "- Accuracy\n",
    "- Precusion\n",
    "- Recall\n",
    "- Confusion Matrix"
   ]
  },
  {
   "cell_type": "code",
   "execution_count": 61,
   "metadata": {},
   "outputs": [
    {
     "name": "stdout",
     "output_type": "stream",
     "text": [
      "Accuracy: 0.9068\n",
      "Precision: 0.9108\n",
      "Recall: 0.9074\n",
      "F1 Score: 0.9091\n",
      "Confusion Matrix:\n",
      " [[463  48]\n",
      " [ 50 490]]\n"
     ]
    }
   ],
   "source": [
    "# 48 x 24 lr 0.001 batch=32\n",
    "accuracy = accuracy_score(all_labels, all_preds)\n",
    "precision = precision_score(all_labels, all_preds)\n",
    "recall = recall_score(all_labels, all_preds)\n",
    "f1 = f1_score(all_labels, all_preds)\n",
    "conf_matrix = confusion_matrix(all_labels, all_preds)\n",
    "\n",
    "print(f\"Accuracy: {accuracy:.4f}\")\n",
    "print(f\"Precision: {precision:.4f}\")\n",
    "print(f\"Recall: {recall:.4f}\")\n",
    "print(f\"F1 Score: {f1:.4f}\")\n",
    "print(\"Confusion Matrix:\\n\", conf_matrix)\n",
    "\n"
   ]
  },
  {
   "cell_type": "code",
   "execution_count": 65,
   "metadata": {},
   "outputs": [
    {
     "name": "stdout",
     "output_type": "stream",
     "text": [
      "Accuracy: 0.9315\n",
      "Precision: 0.9286\n",
      "Recall: 0.9389\n",
      "F1 Score: 0.9337\n",
      "Confusion Matrix:\n",
      " [[472  39]\n",
      " [ 33 507]]\n"
     ]
    }
   ],
   "source": [
    "# 48 x 24 lr 0.005 batch=32\n",
    "accuracy = accuracy_score(all_labels, all_preds)\n",
    "precision = precision_score(all_labels, all_preds)\n",
    "recall = recall_score(all_labels, all_preds)\n",
    "f1 = f1_score(all_labels, all_preds)\n",
    "conf_matrix = confusion_matrix(all_labels, all_preds)\n",
    "\n",
    "print(f\"Accuracy: {accuracy:.4f}\")\n",
    "print(f\"Precision: {precision:.4f}\")\n",
    "print(f\"Recall: {recall:.4f}\")\n",
    "print(f\"F1 Score: {f1:.4f}\")\n",
    "print(\"Confusion Matrix:\\n\", conf_matrix)"
   ]
  }
 ],
 "metadata": {
  "kernelspec": {
   "display_name": ".venv",
   "language": "python",
   "name": "python3"
  },
  "language_info": {
   "codemirror_mode": {
    "name": "ipython",
    "version": 3
   },
   "file_extension": ".py",
   "mimetype": "text/x-python",
   "name": "python",
   "nbconvert_exporter": "python",
   "pygments_lexer": "ipython3",
   "version": "3.12.9"
  }
 },
 "nbformat": 4,
 "nbformat_minor": 2
}
